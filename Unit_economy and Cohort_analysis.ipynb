{
 "cells": [
  {
   "cell_type": "markdown",
   "metadata": {},
   "source": [
    " **Анализ бизнес-показателей Яндекс.Афиши**"
   ]
  },
  {
   "cell_type": "markdown",
   "metadata": {},
   "source": [
    "**Цель проекта:** помочь маркетологам снизить расходы — отказаться от невыгодных источников трафика и перераспределить бюджет. Для этого предстоит изучить: как клиенты пользуются сервисом, когда делают первые покупки на сайте,сколько денег приносит компании каждый клиент,когда расходы на привлечение клиента окупаются.\n",
    "\n",
    "**Предмет исследования:** \n",
    "\n",
    "Данные Яндекс.Афиши с июня 2017 по конец мая 2018 года:\n",
    "- лог сервера с данными о посещениях сайта Яндекс.Афиши,\n",
    "- выгрузка всех заказов за этот период,\n",
    "- статистика рекламных расходов.\n",
    "\n",
    "**Пути к файлам:**\n",
    "\n",
    "визиты: /datasets/visits_log.csv                                                                                   \n",
    "заказы: /datasets/orders_log.csv                                                                                   \n",
    "расходы: /datasets/costs.csv. \n",
    "\n",
    "Выручка измеряется в условных единицах — у.е.\n",
    "\n",
    "Описание данных приведено после подготовки данных к анализу."
   ]
  },
  {
   "cell_type": "markdown",
   "metadata": {},
   "source": [
    "Оглавление\n",
    "<a class=\"ancor\" id=\"step_0\"></a>\n",
    "\n",
    "* [1. Загрузка данных и подготовка их к анализу](#step_1)\n",
    " * [1.1. Загрузка данных и подготовка их к анализу данных по визитам](#step_2)\n",
    " * [1.2. Загрузка данных и подготовка их к анализу данных по заказам](#step_3)\n",
    " * [1.3. Загрузка данных и подготовка их к анализу данных по расходам](#step_4)\n",
    "* [2. Расчет метрик и построение графиков](#step_5)\n",
    " * [2.1 Продуктовые метрики](#step_6)\n",
    "  * [2.1.1 Расчет метрик MAU, WAU и DAU и измменение их во времени](#step_7)\n",
    "  * [2.1.2  Частота посещения пользователями за день и изменение ее во времени](#step_8)\n",
    "  * [2.1.3  Средняя продолжительность сессии за период](#step_9)\n",
    "  * [2.1.4  Рачет Retention Rate посредством кагортного анализа](#step_10)\n",
    " * [2.2  Метрики электронной коммерции](#step_11)\n",
    "  * [2.2.1  Среднее время совершения покупки с момента первого заказа](#step_12)\n",
    "  * [2.2.2  Расчет среднего количества покупок](#step_13)\n",
    "  * [2.2.3  Расчет средней выручки с пользователя. Изменение метрики с течением времени](#step_14)\n",
    "  * [2.2.4  LTV по когортам](#step_15)\n",
    " * [2.3  Маркетинговые метрики](#step_16)\n",
    "  * [.3.1  Общая сумма расходов. Расходы по источникам трафика](#step_17)\n",
    "  * [2.3.2  САС по источникам](#step_18)\n",
    "  * [2.3.3  ROMI по когортам. Окупаемость](#step_19)\n",
    "* [Выводы и рекомендации](#step_20)\n"
   ]
  },
  {
   "cell_type": "markdown",
   "metadata": {},
   "source": [
    "# Загрузка данных и подготовка их к анализу\n",
    "<a class=\"ancor\" id=\"step_1\"></a>"
   ]
  },
  {
   "cell_type": "code",
   "execution_count": 1,
   "metadata": {},
   "outputs": [],
   "source": [
    "import pandas as pd\n",
    "import matplotlib.pyplot as plt\n",
    "import numpy as np\n",
    "import seaborn as sns\n",
    "from matplotlib import pyplot as plt"
   ]
  },
  {
   "cell_type": "markdown",
   "metadata": {},
   "source": [
    "**Комментарий :**\n",
    "\n",
    "Загружены необходимые для считывания и обработки и визуализации данных библиотеки."
   ]
  },
  {
   "cell_type": "markdown",
   "metadata": {},
   "source": [
    "##  Загрузка и подготовка их к анализу данных по визитам\n",
    "<a class=\"ancor\" id=\"step_2\"></a>"
   ]
  },
  {
   "cell_type": "code",
   "execution_count": 2,
   "metadata": {},
   "outputs": [
    {
     "name": "stdout",
     "output_type": "stream",
     "text": [
      "<class 'pandas.core.frame.DataFrame'>\n",
      "RangeIndex: 359400 entries, 0 to 359399\n",
      "Data columns (total 5 columns):\n",
      "Device       359400 non-null object\n",
      "End Ts       359400 non-null object\n",
      "Source Id    359400 non-null int64\n",
      "Start Ts     359400 non-null object\n",
      "Uid          359400 non-null uint64\n",
      "dtypes: int64(1), object(3), uint64(1)\n",
      "memory usage: 13.7+ MB\n",
      "None\n",
      "Измененные названия столбцов:\n",
      "Index(['device', 'end', 'source_id', 'start', 'uid'], dtype='object')\n",
      "\n",
      "Уникальные  значения столбца device: ['touch' 'desktop']\n",
      "\n",
      "Уникальные  значения столбца source_id: [ 4  2  5  9  3  1 10  7  6]\n",
      "\n",
      "Проверка замены типа данных\n",
      "device               object\n",
      "end          datetime64[ns]\n",
      "source_id             int64\n",
      "start        datetime64[ns]\n",
      "uid                  uint64\n",
      "dtype: object\n",
      "\n",
      "Количество \"уникальных\" посетителей: 228169\n"
     ]
    },
    {
     "data": {
      "text/html": [
       "<div>\n",
       "<style scoped>\n",
       "    .dataframe tbody tr th:only-of-type {\n",
       "        vertical-align: middle;\n",
       "    }\n",
       "\n",
       "    .dataframe tbody tr th {\n",
       "        vertical-align: top;\n",
       "    }\n",
       "\n",
       "    .dataframe thead th {\n",
       "        text-align: right;\n",
       "    }\n",
       "</style>\n",
       "<table border=\"1\" class=\"dataframe\">\n",
       "  <thead>\n",
       "    <tr style=\"text-align: right;\">\n",
       "      <th></th>\n",
       "      <th>device</th>\n",
       "      <th>end</th>\n",
       "      <th>source_id</th>\n",
       "      <th>start</th>\n",
       "      <th>uid</th>\n",
       "    </tr>\n",
       "  </thead>\n",
       "  <tbody>\n",
       "    <tr>\n",
       "      <td>0</td>\n",
       "      <td>touch</td>\n",
       "      <td>2017-12-20 17:38:00</td>\n",
       "      <td>4</td>\n",
       "      <td>2017-12-20 17:20:00</td>\n",
       "      <td>16879256277535980062</td>\n",
       "    </tr>\n",
       "    <tr>\n",
       "      <td>1</td>\n",
       "      <td>desktop</td>\n",
       "      <td>2018-02-19 17:21:00</td>\n",
       "      <td>2</td>\n",
       "      <td>2018-02-19 16:53:00</td>\n",
       "      <td>104060357244891740</td>\n",
       "    </tr>\n",
       "    <tr>\n",
       "      <td>2</td>\n",
       "      <td>touch</td>\n",
       "      <td>2017-07-01 01:54:00</td>\n",
       "      <td>5</td>\n",
       "      <td>2017-07-01 01:54:00</td>\n",
       "      <td>7459035603376831527</td>\n",
       "    </tr>\n",
       "    <tr>\n",
       "      <td>3</td>\n",
       "      <td>desktop</td>\n",
       "      <td>2018-05-20 11:23:00</td>\n",
       "      <td>9</td>\n",
       "      <td>2018-05-20 10:59:00</td>\n",
       "      <td>16174680259334210214</td>\n",
       "    </tr>\n",
       "    <tr>\n",
       "      <td>4</td>\n",
       "      <td>desktop</td>\n",
       "      <td>2017-12-27 14:06:00</td>\n",
       "      <td>3</td>\n",
       "      <td>2017-12-27 14:06:00</td>\n",
       "      <td>9969694820036681168</td>\n",
       "    </tr>\n",
       "  </tbody>\n",
       "</table>\n",
       "</div>"
      ],
      "text/plain": [
       "    device                 end  source_id               start  \\\n",
       "0    touch 2017-12-20 17:38:00          4 2017-12-20 17:20:00   \n",
       "1  desktop 2018-02-19 17:21:00          2 2018-02-19 16:53:00   \n",
       "2    touch 2017-07-01 01:54:00          5 2017-07-01 01:54:00   \n",
       "3  desktop 2018-05-20 11:23:00          9 2018-05-20 10:59:00   \n",
       "4  desktop 2017-12-27 14:06:00          3 2017-12-27 14:06:00   \n",
       "\n",
       "                    uid  \n",
       "0  16879256277535980062  \n",
       "1    104060357244891740  \n",
       "2   7459035603376831527  \n",
       "3  16174680259334210214  \n",
       "4   9969694820036681168  "
      ]
     },
     "metadata": {},
     "output_type": "display_data"
    }
   ],
   "source": [
    "visits = pd.read_csv('/datasets/visits_log.csv')\n",
    "print(visits.info())\n",
    "\n",
    "visits.columns = ['device','end', 'source_id','start','uid' ]\n",
    "\n",
    "print('Измененные названия столбцов:')\n",
    "print(visits.columns)\n",
    "print()\n",
    "print('Уникальные  значения столбца device:', visits['device'].unique())\n",
    "print()\n",
    "print('Уникальные  значения столбца source_id:',visits['source_id'].unique())\n",
    "print()\n",
    "visits['end'] = visits['end'].astype('datetime64')\n",
    "visits['start'] = visits['start'].astype('datetime64')\n",
    "\n",
    "print('Проверка замены типа данных')\n",
    "print(visits.dtypes)\n",
    "print()\n",
    "\n",
    "print('Количество \"уникальных\" посетителей:', visits['uid'].nunique())\n",
    "display(visits.head()) "
   ]
  },
  {
   "cell_type": "code",
   "execution_count": 3,
   "metadata": {},
   "outputs": [
    {
     "name": "stdout",
     "output_type": "stream",
     "text": [
      "count                  359400\n",
      "unique                 224303\n",
      "top       2017-11-24 16:06:00\n",
      "freq                       19\n",
      "first     2017-06-01 00:01:00\n",
      "last      2018-05-31 23:59:00\n",
      "Name: start, dtype: object\n",
      "count                  359400\n",
      "unique                 224760\n",
      "top       2017-11-24 16:51:00\n",
      "freq                       23\n",
      "first     2017-06-01 00:02:00\n",
      "last      2018-06-01 01:26:00\n",
      "Name: end, dtype: object\n",
      "\n"
     ]
    }
   ],
   "source": [
    "print(visits['start'].describe())\n",
    "print(visits['end'].describe())\n",
    "print()"
   ]
  },
  {
   "cell_type": "code",
   "execution_count": 4,
   "metadata": {},
   "outputs": [
    {
     "data": {
      "text/html": [
       "<div>\n",
       "<style scoped>\n",
       "    .dataframe tbody tr th:only-of-type {\n",
       "        vertical-align: middle;\n",
       "    }\n",
       "\n",
       "    .dataframe tbody tr th {\n",
       "        vertical-align: top;\n",
       "    }\n",
       "\n",
       "    .dataframe thead th {\n",
       "        text-align: right;\n",
       "    }\n",
       "</style>\n",
       "<table border=\"1\" class=\"dataframe\">\n",
       "  <thead>\n",
       "    <tr style=\"text-align: right;\">\n",
       "      <th></th>\n",
       "      <th>device</th>\n",
       "      <th>end</th>\n",
       "      <th>source_id</th>\n",
       "      <th>start</th>\n",
       "      <th>uid</th>\n",
       "    </tr>\n",
       "  </thead>\n",
       "  <tbody>\n",
       "    <tr>\n",
       "      <td>4181</td>\n",
       "      <td>desktop</td>\n",
       "      <td>2018-03-25 03:18:00</td>\n",
       "      <td>3</td>\n",
       "      <td>2018-03-25 03:50:00</td>\n",
       "      <td>13092152539246794986</td>\n",
       "    </tr>\n",
       "    <tr>\n",
       "      <td>177972</td>\n",
       "      <td>desktop</td>\n",
       "      <td>2018-03-25 03:09:00</td>\n",
       "      <td>9</td>\n",
       "      <td>2018-03-25 03:55:00</td>\n",
       "      <td>4621202742905035453</td>\n",
       "    </tr>\n",
       "  </tbody>\n",
       "</table>\n",
       "</div>"
      ],
      "text/plain": [
       "         device                 end  source_id               start  \\\n",
       "4181    desktop 2018-03-25 03:18:00          3 2018-03-25 03:50:00   \n",
       "177972  desktop 2018-03-25 03:09:00          9 2018-03-25 03:55:00   \n",
       "\n",
       "                         uid  \n",
       "4181    13092152539246794986  \n",
       "177972   4621202742905035453  "
      ]
     },
     "execution_count": 4,
     "metadata": {},
     "output_type": "execute_result"
    }
   ],
   "source": [
    "visits[visits['start'] > visits['end']]"
   ]
  },
  {
   "cell_type": "code",
   "execution_count": 5,
   "metadata": {},
   "outputs": [
    {
     "data": {
      "text/html": [
       "<div>\n",
       "<style scoped>\n",
       "    .dataframe tbody tr th:only-of-type {\n",
       "        vertical-align: middle;\n",
       "    }\n",
       "\n",
       "    .dataframe tbody tr th {\n",
       "        vertical-align: top;\n",
       "    }\n",
       "\n",
       "    .dataframe thead th {\n",
       "        text-align: right;\n",
       "    }\n",
       "</style>\n",
       "<table border=\"1\" class=\"dataframe\">\n",
       "  <thead>\n",
       "    <tr style=\"text-align: right;\">\n",
       "      <th></th>\n",
       "      <th>device</th>\n",
       "      <th>end</th>\n",
       "      <th>source_id</th>\n",
       "      <th>start</th>\n",
       "      <th>uid</th>\n",
       "    </tr>\n",
       "  </thead>\n",
       "  <tbody>\n",
       "    <tr>\n",
       "      <td>2</td>\n",
       "      <td>touch</td>\n",
       "      <td>2017-07-01 01:54:00</td>\n",
       "      <td>5</td>\n",
       "      <td>2017-07-01 01:54:00</td>\n",
       "      <td>7459035603376831527</td>\n",
       "    </tr>\n",
       "    <tr>\n",
       "      <td>4</td>\n",
       "      <td>desktop</td>\n",
       "      <td>2017-12-27 14:06:00</td>\n",
       "      <td>3</td>\n",
       "      <td>2017-12-27 14:06:00</td>\n",
       "      <td>9969694820036681168</td>\n",
       "    </tr>\n",
       "    <tr>\n",
       "      <td>28</td>\n",
       "      <td>desktop</td>\n",
       "      <td>2017-11-09 15:53:00</td>\n",
       "      <td>4</td>\n",
       "      <td>2017-11-09 15:53:00</td>\n",
       "      <td>17892541477379911957</td>\n",
       "    </tr>\n",
       "    <tr>\n",
       "      <td>32</td>\n",
       "      <td>desktop</td>\n",
       "      <td>2017-11-30 12:29:00</td>\n",
       "      <td>4</td>\n",
       "      <td>2017-11-30 12:29:00</td>\n",
       "      <td>13410401624913285510</td>\n",
       "    </tr>\n",
       "    <tr>\n",
       "      <td>54</td>\n",
       "      <td>desktop</td>\n",
       "      <td>2018-02-23 16:52:00</td>\n",
       "      <td>10</td>\n",
       "      <td>2018-02-23 16:52:00</td>\n",
       "      <td>13423278602430425332</td>\n",
       "    </tr>\n",
       "    <tr>\n",
       "      <td>...</td>\n",
       "      <td>...</td>\n",
       "      <td>...</td>\n",
       "      <td>...</td>\n",
       "      <td>...</td>\n",
       "      <td>...</td>\n",
       "    </tr>\n",
       "    <tr>\n",
       "      <td>358511</td>\n",
       "      <td>desktop</td>\n",
       "      <td>2017-09-15 11:31:00</td>\n",
       "      <td>4</td>\n",
       "      <td>2017-09-15 11:31:00</td>\n",
       "      <td>6406595666419694649</td>\n",
       "    </tr>\n",
       "    <tr>\n",
       "      <td>358514</td>\n",
       "      <td>desktop</td>\n",
       "      <td>2018-01-16 23:57:00</td>\n",
       "      <td>5</td>\n",
       "      <td>2018-01-16 23:57:00</td>\n",
       "      <td>6457848932283204350</td>\n",
       "    </tr>\n",
       "    <tr>\n",
       "      <td>358522</td>\n",
       "      <td>desktop</td>\n",
       "      <td>2017-11-08 13:39:00</td>\n",
       "      <td>4</td>\n",
       "      <td>2017-11-08 13:39:00</td>\n",
       "      <td>6761309174945977743</td>\n",
       "    </tr>\n",
       "    <tr>\n",
       "      <td>358524</td>\n",
       "      <td>touch</td>\n",
       "      <td>2018-01-18 13:38:00</td>\n",
       "      <td>4</td>\n",
       "      <td>2018-01-18 13:38:00</td>\n",
       "      <td>4558073034499185861</td>\n",
       "    </tr>\n",
       "    <tr>\n",
       "      <td>358529</td>\n",
       "      <td>desktop</td>\n",
       "      <td>2018-05-06 20:27:00</td>\n",
       "      <td>5</td>\n",
       "      <td>2018-05-06 20:27:00</td>\n",
       "      <td>13482259146982443019</td>\n",
       "    </tr>\n",
       "  </tbody>\n",
       "</table>\n",
       "<p>35794 rows × 5 columns</p>\n",
       "</div>"
      ],
      "text/plain": [
       "         device                 end  source_id               start  \\\n",
       "2         touch 2017-07-01 01:54:00          5 2017-07-01 01:54:00   \n",
       "4       desktop 2017-12-27 14:06:00          3 2017-12-27 14:06:00   \n",
       "28      desktop 2017-11-09 15:53:00          4 2017-11-09 15:53:00   \n",
       "32      desktop 2017-11-30 12:29:00          4 2017-11-30 12:29:00   \n",
       "54      desktop 2018-02-23 16:52:00         10 2018-02-23 16:52:00   \n",
       "...         ...                 ...        ...                 ...   \n",
       "358511  desktop 2017-09-15 11:31:00          4 2017-09-15 11:31:00   \n",
       "358514  desktop 2018-01-16 23:57:00          5 2018-01-16 23:57:00   \n",
       "358522  desktop 2017-11-08 13:39:00          4 2017-11-08 13:39:00   \n",
       "358524    touch 2018-01-18 13:38:00          4 2018-01-18 13:38:00   \n",
       "358529  desktop 2018-05-06 20:27:00          5 2018-05-06 20:27:00   \n",
       "\n",
       "                         uid  \n",
       "2        7459035603376831527  \n",
       "4        9969694820036681168  \n",
       "28      17892541477379911957  \n",
       "32      13410401624913285510  \n",
       "54      13423278602430425332  \n",
       "...                      ...  \n",
       "358511   6406595666419694649  \n",
       "358514   6457848932283204350  \n",
       "358522   6761309174945977743  \n",
       "358524   4558073034499185861  \n",
       "358529  13482259146982443019  \n",
       "\n",
       "[35794 rows x 5 columns]"
      ]
     },
     "execution_count": 5,
     "metadata": {},
     "output_type": "execute_result"
    }
   ],
   "source": [
    "visits[visits['start'] == visits['end']]"
   ]
  },
  {
   "cell_type": "code",
   "execution_count": 6,
   "metadata": {},
   "outputs": [
    {
     "name": "stdout",
     "output_type": "stream",
     "text": [
      "<class 'pandas.core.frame.DataFrame'>\n",
      "Int64Index: 359398 entries, 0 to 359399\n",
      "Data columns (total 5 columns):\n",
      "device       359398 non-null object\n",
      "end          359398 non-null datetime64[ns]\n",
      "source_id    359398 non-null int64\n",
      "start        359398 non-null datetime64[ns]\n",
      "uid          359398 non-null uint64\n",
      "dtypes: datetime64[ns](2), int64(1), object(1), uint64(1)\n",
      "memory usage: 16.5+ MB\n"
     ]
    }
   ],
   "source": [
    "visits = visits[visits['start'] <= visits['end']]\n",
    "visits.info()"
   ]
  },
  {
   "cell_type": "markdown",
   "metadata": {},
   "source": [
    "**Комментарий:**\n",
    "\n",
    "Загружены и изучены  данные  по визитам посредством  методов  read_csv () и info(), соответственно. \n",
    "В названиях столбцов  были заглавные буквы и пробелы, поэтому была произведена замена названий столбцов.\n",
    "Далее  данные столбцов были изучены данные  посредством методов unique() и describe(), также была произведен замена строкового типа данных  на временной в столбцах End Ts  и  Start Ts. Выявлено, что для 2 визитов время конца визита меньше, чем время начала, что противоречит логике. При этом устройство, с которого был осуществлен визит одно и тоже,  дата и время сопоставими, можно предположить технический сбой. Эти строки удалили из дальнейшего анализа. Кроме того, обращает на себя внимание, что в 10% визитов время начала и конца визита равны, т.е. продолжительность визита 0.\n",
    "\n",
    "*Описание данных visits*\n",
    "\n",
    "device  (изначально, Device)   -    устройство ( связь/компьютер)                                                  \n",
    "end (End Ts) -       конец визита                                                                         \n",
    "source_id (Source Id) -    идентификатор трафика                                                         \n",
    "start (Start Ts) -    начало визита                                                                                \n",
    "uid (Uid) -        идентификатор пользователя"
   ]
  },
  {
   "cell_type": "markdown",
   "metadata": {},
   "source": [
    "## Загрузка данных и подготовка их к анализу данных по заказам\n",
    "<a class=\"ancor\" id=\"step_3\"></a>"
   ]
  },
  {
   "cell_type": "code",
   "execution_count": 7,
   "metadata": {},
   "outputs": [
    {
     "name": "stdout",
     "output_type": "stream",
     "text": [
      "<class 'pandas.core.frame.DataFrame'>\n",
      "RangeIndex: 50415 entries, 0 to 50414\n",
      "Data columns (total 3 columns):\n",
      "Buy Ts     50415 non-null object\n",
      "Revenue    50415 non-null float64\n",
      "Uid        50415 non-null uint64\n",
      "dtypes: float64(1), object(1), uint64(1)\n",
      "memory usage: 1.2+ MB\n",
      "None\n"
     ]
    },
    {
     "data": {
      "text/html": [
       "<div>\n",
       "<style scoped>\n",
       "    .dataframe tbody tr th:only-of-type {\n",
       "        vertical-align: middle;\n",
       "    }\n",
       "\n",
       "    .dataframe tbody tr th {\n",
       "        vertical-align: top;\n",
       "    }\n",
       "\n",
       "    .dataframe thead th {\n",
       "        text-align: right;\n",
       "    }\n",
       "</style>\n",
       "<table border=\"1\" class=\"dataframe\">\n",
       "  <thead>\n",
       "    <tr style=\"text-align: right;\">\n",
       "      <th></th>\n",
       "      <th>buy</th>\n",
       "      <th>revenue</th>\n",
       "      <th>uid</th>\n",
       "    </tr>\n",
       "  </thead>\n",
       "  <tbody>\n",
       "    <tr>\n",
       "      <td>0</td>\n",
       "      <td>2017-06-01 00:10:00</td>\n",
       "      <td>17.00</td>\n",
       "      <td>10329302124590727494</td>\n",
       "    </tr>\n",
       "    <tr>\n",
       "      <td>1</td>\n",
       "      <td>2017-06-01 00:25:00</td>\n",
       "      <td>0.55</td>\n",
       "      <td>11627257723692907447</td>\n",
       "    </tr>\n",
       "    <tr>\n",
       "      <td>2</td>\n",
       "      <td>2017-06-01 00:27:00</td>\n",
       "      <td>0.37</td>\n",
       "      <td>17903680561304213844</td>\n",
       "    </tr>\n",
       "    <tr>\n",
       "      <td>3</td>\n",
       "      <td>2017-06-01 00:29:00</td>\n",
       "      <td>0.55</td>\n",
       "      <td>16109239769442553005</td>\n",
       "    </tr>\n",
       "    <tr>\n",
       "      <td>4</td>\n",
       "      <td>2017-06-01 07:58:00</td>\n",
       "      <td>0.37</td>\n",
       "      <td>14200605875248379450</td>\n",
       "    </tr>\n",
       "  </tbody>\n",
       "</table>\n",
       "</div>"
      ],
      "text/plain": [
       "                   buy  revenue                   uid\n",
       "0  2017-06-01 00:10:00    17.00  10329302124590727494\n",
       "1  2017-06-01 00:25:00     0.55  11627257723692907447\n",
       "2  2017-06-01 00:27:00     0.37  17903680561304213844\n",
       "3  2017-06-01 00:29:00     0.55  16109239769442553005\n",
       "4  2017-06-01 07:58:00     0.37  14200605875248379450"
      ]
     },
     "metadata": {},
     "output_type": "display_data"
    },
    {
     "name": "stdout",
     "output_type": "stream",
     "text": [
      "\n",
      "count    50415.000000\n",
      "mean         4.999647\n",
      "std         21.818359\n",
      "min          0.000000\n",
      "25%          1.220000\n",
      "50%          2.500000\n",
      "75%          4.890000\n",
      "max       2633.280000\n",
      "Name: revenue, dtype: float64\n",
      "\n",
      "count                   50415\n",
      "unique                  45991\n",
      "top       2018-05-31 10:13:00\n",
      "freq                        9\n",
      "first     2017-06-01 00:10:00\n",
      "last      2018-06-01 00:02:00\n",
      "Name: buy, dtype: object\n",
      "\n",
      "Количество уникальных покупателей 36523\n"
     ]
    }
   ],
   "source": [
    "orders = pd.read_csv('/datasets/orders_log.csv')\n",
    "print(orders.info())\n",
    "orders.columns = ['buy', 'revenue', 'uid']\n",
    "display(orders.head())\n",
    "orders['buy'] = orders['buy'].astype('datetime64')\n",
    "\n",
    "print()\n",
    "print(orders['revenue'].describe())\n",
    "print()\n",
    "print(orders['buy'].describe())\n",
    "print()\n",
    "print('Количество уникальных покупателей', orders['uid'].nunique())"
   ]
  },
  {
   "cell_type": "code",
   "execution_count": 8,
   "metadata": {},
   "outputs": [
    {
     "data": {
      "text/plain": [
       "buy        51\n",
       "revenue    51\n",
       "uid        51\n",
       "dtype: int64"
      ]
     },
     "execution_count": 8,
     "metadata": {},
     "output_type": "execute_result"
    }
   ],
   "source": [
    "orders[orders['revenue'] == 0].count()"
   ]
  },
  {
   "cell_type": "markdown",
   "metadata": {},
   "source": [
    "**Комментарий :**\n",
    "\n",
    "Загружены и изучены  данные по заказам посредством  методов  read_csv () и info(), соответственно. \n",
    "В названиях столбцов  были заглавные буквы и пробелы, поэтому была произведена замена названий столбцов.\n",
    "Были изучены данные  посредством методов unique() и describe() и замена строкового типа данных  на временной в столбце Buy Ts.\n",
    "В 1% покупок выручка равна 0, возможно это комплимент, подарок от компании, периоды покупкок и визитов логически соответствуют друг другу. Количество покупателей не превышает количество визитеров (вычислено nunique()\n",
    "\n",
    "\n",
    "*Описание данных orders*\n",
    "\n",
    "buy (Buy Ts) -     дата и время заказа                                                                                     \n",
    "revenue (Revenue) -    выручка, у.е.                                                                                           \n",
    "uid (Uid) -      идентификатор пользователя"
   ]
  },
  {
   "cell_type": "markdown",
   "metadata": {},
   "source": [
    "## Загрузка данных и подготовка их к анализу данных по расходам\n",
    "<a class=\"ancor\" id=\"step_4\"></a>"
   ]
  },
  {
   "cell_type": "code",
   "execution_count": 9,
   "metadata": {},
   "outputs": [
    {
     "name": "stdout",
     "output_type": "stream",
     "text": [
      "<class 'pandas.core.frame.DataFrame'>\n",
      "RangeIndex: 2542 entries, 0 to 2541\n",
      "Data columns (total 3 columns):\n",
      "source_id    2542 non-null int64\n",
      "dt           2542 non-null object\n",
      "costs        2542 non-null float64\n",
      "dtypes: float64(1), int64(1), object(1)\n",
      "memory usage: 59.7+ KB\n",
      "None\n"
     ]
    },
    {
     "data": {
      "text/html": [
       "<div>\n",
       "<style scoped>\n",
       "    .dataframe tbody tr th:only-of-type {\n",
       "        vertical-align: middle;\n",
       "    }\n",
       "\n",
       "    .dataframe tbody tr th {\n",
       "        vertical-align: top;\n",
       "    }\n",
       "\n",
       "    .dataframe thead th {\n",
       "        text-align: right;\n",
       "    }\n",
       "</style>\n",
       "<table border=\"1\" class=\"dataframe\">\n",
       "  <thead>\n",
       "    <tr style=\"text-align: right;\">\n",
       "      <th></th>\n",
       "      <th>source_id</th>\n",
       "      <th>dt</th>\n",
       "      <th>costs</th>\n",
       "    </tr>\n",
       "  </thead>\n",
       "  <tbody>\n",
       "    <tr>\n",
       "      <td>0</td>\n",
       "      <td>1</td>\n",
       "      <td>2017-06-01</td>\n",
       "      <td>75.20</td>\n",
       "    </tr>\n",
       "    <tr>\n",
       "      <td>1</td>\n",
       "      <td>1</td>\n",
       "      <td>2017-06-02</td>\n",
       "      <td>62.25</td>\n",
       "    </tr>\n",
       "    <tr>\n",
       "      <td>2</td>\n",
       "      <td>1</td>\n",
       "      <td>2017-06-03</td>\n",
       "      <td>36.53</td>\n",
       "    </tr>\n",
       "    <tr>\n",
       "      <td>3</td>\n",
       "      <td>1</td>\n",
       "      <td>2017-06-04</td>\n",
       "      <td>55.00</td>\n",
       "    </tr>\n",
       "    <tr>\n",
       "      <td>4</td>\n",
       "      <td>1</td>\n",
       "      <td>2017-06-05</td>\n",
       "      <td>57.08</td>\n",
       "    </tr>\n",
       "  </tbody>\n",
       "</table>\n",
       "</div>"
      ],
      "text/plain": [
       "   source_id          dt  costs\n",
       "0          1  2017-06-01  75.20\n",
       "1          1  2017-06-02  62.25\n",
       "2          1  2017-06-03  36.53\n",
       "3          1  2017-06-04  55.00\n",
       "4          1  2017-06-05  57.08"
      ]
     },
     "metadata": {},
     "output_type": "display_data"
    },
    {
     "name": "stdout",
     "output_type": "stream",
     "text": [
      "[ 1  2  3  4  5  9 10]\n",
      "\n",
      "\n",
      "count                    2542\n",
      "unique                    364\n",
      "top       2018-03-03 00:00:00\n",
      "freq                        7\n",
      "first     2017-06-01 00:00:00\n",
      "last      2018-05-31 00:00:00\n",
      "Name: dt, dtype: object\n",
      "\n",
      "count    2542.000000\n",
      "mean      129.477427\n",
      "std       156.296628\n",
      "min         0.540000\n",
      "25%        21.945000\n",
      "50%        77.295000\n",
      "75%       170.065000\n",
      "max      1788.280000\n",
      "Name: costs, dtype: float64\n"
     ]
    }
   ],
   "source": [
    "costs = pd.read_csv('/datasets/costs.csv')\n",
    "print(costs.info())\n",
    "display(costs.head())\n",
    "print(costs['source_id'].unique())\n",
    "print()\n",
    "costs['dt'] = costs['dt'].astype('datetime64')\n",
    "\n",
    "print()\n",
    "print(costs['dt'].describe())\n",
    "print()\n",
    "print(costs['costs'].describe())"
   ]
  },
  {
   "cell_type": "markdown",
   "metadata": {},
   "source": [
    "**Комментарий :**\n",
    "\n",
    "Загружены и изучены  данные  по расходам посредством  методов  read_csv () и info(), соответственно. \n",
    "Использовались методы unique() и describe() и произведена замена строкового типа данных dt датасета costs. Аномалий не выявлено.\n",
    "\n",
    "*Описание данных costs*\n",
    "\n",
    "source_id -  идентификатор трафика                                                                                 \n",
    "dt   -        дата расхода                                                                                 \n",
    "costs   -     расход, у.е."
   ]
  },
  {
   "cell_type": "code",
   "execution_count": 10,
   "metadata": {},
   "outputs": [
    {
     "name": "stdout",
     "output_type": "stream",
     "text": [
      "Период даты и времени окончания визитов: 2017-06-01 00:02:00 - 2018-06-01 01:26:00\n",
      "Период даты и времени начала визитов: 2017-06-01 00:01:00 - 2018-05-31 23:59:00\n",
      "Период заказов 2017-06-01 00:10:00 - 2018-06-01 00:02:00\n",
      "Период расходов: 2017-06-01 00:00:00 - 2018-05-31 00:00:00\n"
     ]
    }
   ],
   "source": [
    "print('Период даты и времени окончания визитов:', visits['end'].min(),'-', visits['end'].max())\n",
    "print('Период даты и времени начала визитов:', visits['start'].min(), '-',visits['start'].max())\n",
    "print('Период заказов', orders['buy'].min(), '-', orders['buy'].max())\n",
    "print('Период расходов:', costs['dt'].min(), '-', costs['dt'].max())"
   ]
  },
  {
   "cell_type": "markdown",
   "metadata": {},
   "source": [
    "**Комментарий :**\n",
    "\n",
    "Периоды визитов, расходов, заказов сопоставимы."
   ]
  },
  {
   "cell_type": "markdown",
   "metadata": {},
   "source": [
    "**ВЫВОД:**\n",
    "\n",
    "Данные по визитам, расходам и заказам подготовлены для анализа."
   ]
  },
  {
   "cell_type": "markdown",
   "metadata": {},
   "source": [
    "# Расчет метрик и построение графиков\n",
    "<a class=\"ancor\" id=\"step_5\"></a>"
   ]
  },
  {
   "cell_type": "markdown",
   "metadata": {},
   "source": [
    "## Продуктовые метрики \n",
    "<a class=\"ancor\" id=\"step_6\"></a>"
   ]
  },
  {
   "cell_type": "markdown",
   "metadata": {},
   "source": [
    "### Расчет метрик MAU, WAU и DAU и изменение их во времени\n",
    "<a class=\"ancor\" id=\"step_7\"></a>"
   ]
  },
  {
   "cell_type": "code",
   "execution_count": 11,
   "metadata": {},
   "outputs": [
    {
     "name": "stdout",
     "output_type": "stream",
     "text": [
      "Среднее количество уникальных пользователей в день (DAU) за период: 907\n",
      "Среднее количество уникальных пользователей за неделю (WAU) за период: 5716\n",
      "Среднее количество уникальных пользователей за месяц (MAU) за период: 23228\n"
     ]
    },
    {
     "data": {
      "image/png": "[encoded data removed]",
      "text/plain": [
       "<Figure size 864x360 with 1 Axes>"
      ]
     },
     "metadata": {
      "needs_background": "light"
     },
     "output_type": "display_data"
    },
    {
     "data": {
      "image/png": "[encoded data removed]",
      "text/plain": [
       "<Figure size 864x360 with 1 Axes>"
      ]
     },
     "metadata": {
      "needs_background": "light"
     },
     "output_type": "display_data"
    },
    {
     "data": {
      "image/png": "[encoded data removed]",
      "text/plain": [
       "<Figure size 864x360 with 1 Axes>"
      ]
     },
     "metadata": {
      "needs_background": "light"
     },
     "output_type": "display_data"
    }
   ],
   "source": [
    "visits['year'] = visits['start'].dt.year\n",
    "visits['month'] = visits['start'].dt.month\n",
    "visits['week'] = visits['start'].dt.week\n",
    "visits['date'] = visits['start'].dt.date\n",
    "\n",
    "dau_total = visits.groupby('date').agg({'uid' : 'nunique'}).mean()\n",
    "wau_total = visits.groupby(['year','week']).agg({'uid' : 'nunique'}).mean()\n",
    "mau_total = visits.groupby(['year','month']).agg({'uid' : 'nunique'}).mean()\n",
    "\n",
    "print('Среднее количество уникальных пользователей в день (DAU) за период:', int(dau_total))\n",
    "print('Среднее количество уникальных пользователей за неделю (WAU) за период:', int(wau_total))\n",
    "print('Среднее количество уникальных пользователей за месяц (MAU) за период:',int(mau_total))\n",
    "\n",
    "visits.pivot_table(index = 'date', aggfunc = {'uid' : 'nunique'}).plot(figsize = (12,5))\n",
    "plt.title(\"Среднее количество уникальных пользователей в день\")\n",
    "plt.xlabel('Дата')\n",
    "plt.ylabel('Среднее количество')\n",
    "plt.legend(['DAU'])\n",
    "plt.title(\"Изменение DAU во времени\")\n",
    "plt.show()\n",
    "visits.pivot_table(index = ['year','week'], values = 'uid', aggfunc = {'uid' : 'nunique'}).plot(figsize = (12,5))\n",
    "plt.xlabel('Неделя')\n",
    "plt.ylabel('Среднее количество')\n",
    "plt.legend(['WAU'])\n",
    "plt.title(\"Изменение WAU во времени\")\n",
    "plt.show()\n",
    "visits.pivot_table(index = ['year','month'], values = 'uid', aggfunc = {'uid' : 'nunique'}).plot(figsize = (12,5))\n",
    "plt.xlabel('Месяц')\n",
    "plt.ylabel('Среднее количество')\n",
    "plt.legend(['MAU'])\n",
    "plt.title(\"Изменение MAU во времени\")\n",
    "plt.show()"
   ]
  },
  {
   "cell_type": "code",
   "execution_count": 12,
   "metadata": {},
   "outputs": [
    {
     "name": "stdout",
     "output_type": "stream",
     "text": [
      "Недельная степень вовлечения пользователей: uid    15.884409\n",
      "dtype: float64\n",
      "Месячная степень вовлечения пользователей: uid    3.90897\n",
      "dtype: float64\n"
     ]
    }
   ],
   "source": [
    "print('Недельная степень вовлечения пользователей:', dau_total / wau_total*100)\n",
    "print('Месячная степень вовлечения пользователей:', dau_total / mau_total*100)"
   ]
  },
  {
   "cell_type": "markdown",
   "metadata": {},
   "source": [
    "**ВЫВОД:**\n",
    "\n",
    "Вовлечение пользователей в сервис Яндекс.Афиши изменяется во времени, можно предположить сезонную зависимость,  количество посетеителей было выше в осенне-зимний период и с наступлением тепла в апреле пошло на спад.            \n",
    "Следует отметить, в среднем приложение популярно у пользователей.                                                   \n",
    "Недельный Sticky factor порядка 16%, месячный - 4%."
   ]
  },
  {
   "cell_type": "markdown",
   "metadata": {},
   "source": [
    "### Частота посещения  пользователями  за день и изменение ее во времени\n",
    "<a class=\"ancor\" id=\"step_8\"></a>"
   ]
  },
  {
   "cell_type": "markdown",
   "metadata": {},
   "source": [
    "Для расчета среднего количества посещений Яндекс.Афиши пользователями в день, мы разделим число сессий на количество пользователей (уникальных) за день. Для получения сводки средних количеств посещений Яндекс.Афиши пользователями в день используем метод describe().Посредством него вычислим среднее значение, стандартное отклонение, минимальное значение, максимальное значение, 1-й процентиль, 2-й процентиль, 3-й процентиль столбцов с числовыми значениямиб подсчитаем количество переменных в наборе данных."
   ]
  },
  {
   "cell_type": "code",
   "execution_count": 13,
   "metadata": {},
   "outputs": [
    {
     "name": "stdout",
     "output_type": "stream",
     "text": [
      "1.0824875552419868\n",
      "count    364.000000\n",
      "mean       1.082166\n",
      "std        0.020873\n",
      "min        1.000000\n",
      "25%        1.070321\n",
      "50%        1.082488\n",
      "75%        1.093876\n",
      "max        1.217837\n",
      "Name: visits_mean, dtype: float64\n"
     ]
    },
    {
     "data": {
      "image/png": "[encoded data removed]",
      "text/plain": [
       "<Figure size 864x216 with 1 Axes>"
      ]
     },
     "metadata": {
      "needs_background": "light"
     },
     "output_type": "display_data"
    }
   ],
   "source": [
    "visits_per_user_per_date = visits.groupby(['date']).agg({'uid': ['count' , 'nunique']})\n",
    "visits_per_user_per_date.columns = ['count', 'n_users']\n",
    "\n",
    "visits_per_user_per_date['visits_mean'] = visits_per_user_per_date['count'] / visits_per_user_per_date['n_users']\n",
    "print(visits_per_user_per_date['visits_mean'].median())\n",
    "\n",
    "print(visits_per_user_per_date['visits_mean'].describe())\n",
    "\n",
    "visits_per_user_per_date['visits_mean'].plot(figsize = (12,3))\n",
    "plt.xlabel('Месяц')\n",
    "plt.ylabel('Среднее количество')\n",
    "plt.legend([''])\n",
    "plt.title(\"Изменение среднесуточного количества визитов пользователями во времени\")\n",
    "plt.show()"
   ]
  },
  {
   "cell_type": "markdown",
   "metadata": {},
   "source": [
    "**ВЫВОД**\n",
    "\n",
    "В день один пользователь в среднем проводит в приложении 1 сессию.  "
   ]
  },
  {
   "cell_type": "markdown",
   "metadata": {},
   "source": [
    "### Средняя продолжительность сессии за период\n",
    "<a class=\"ancor\" id=\"step_9\"></a>"
   ]
  },
  {
   "cell_type": "code",
   "execution_count": 14,
   "metadata": {},
   "outputs": [
    {
     "name": "stdout",
     "output_type": "stream",
     "text": [
      "Средняя продолжительность визита, cek: 300.0\n",
      "Продолжительность визита чаще всего, cek:\n",
      "0    60\n",
      "dtype: int64\n"
     ]
    },
    {
     "data": {
      "image/png": "[encoded data removed]",
      "text/plain": [
       "<Figure size 432x288 with 1 Axes>"
      ]
     },
     "metadata": {
      "needs_background": "light"
     },
     "output_type": "display_data"
    }
   ],
   "source": [
    "visits['duration_sec'] = (visits['end'] -  visits['start']).dt.seconds\n",
    "\n",
    "print('Средняя продолжительность визита, cek:',visits['duration_sec'].median()) \n",
    "\n",
    "print('Продолжительность визита чаще всего, cek:')\n",
    "print(visits['duration_sec'].mode()) \n",
    "\n",
    "visits['duration_sec'].hist(bins=30, range = (0,6000)) \n",
    "plt.title('Распределение продолжительности пользовательской сессии')\n",
    "plt.xlabel(\"Месяц, год\")\n",
    "plt.ylabel(\"Выручка, у.е.\")\n",
    "plt.show()"
   ]
  },
  {
   "cell_type": "markdown",
   "metadata": {},
   "source": [
    "**ВЫВОД**\n",
    "\n",
    "\n",
    "Средняя продолжительность визита (медианное значение) порядка 5 мин. Чаще всего пользователи проводит в сервисе около минуты."
   ]
  },
  {
   "cell_type": "markdown",
   "metadata": {},
   "source": [
    "### Рачет Retention Rate посредством кагортного анализа\n",
    "<a class=\"ancor\" id=\"step_10\"></a>"
   ]
  },
  {
   "cell_type": "code",
   "execution_count": 15,
   "metadata": {},
   "outputs": [
    {
     "data": {
      "image/png": "[encoded data removed]",
      "text/plain": [
       "<Figure size 936x648 with 2 Axes>"
      ]
     },
     "metadata": {
      "needs_background": "light"
     },
     "output_type": "display_data"
    }
   ],
   "source": [
    "import datetime\n",
    "first_visit = visits.groupby('uid')['start'].min()\n",
    "first_visit.name = 'first_visit'\n",
    "visits = visits.merge(first_visit, on = 'uid') \n",
    "\n",
    "visits['month'] = visits['start'].astype('datetime64[M]')\n",
    "visits['first_visit_month'] = visits['first_visit'].astype('datetime64[M]')\n",
    "\n",
    "visits['cohort_lifetime'] = visits['month'] - visits['first_visit_month']\n",
    "visits['cohort_lifetime'] = visits['cohort_lifetime'] / np.timedelta64(1,'M')\n",
    "visits['cohort_lifetime'] = visits['cohort_lifetime'].apply(np.round).astype('int')\n",
    "\n",
    "visits.head()\n",
    "\n",
    "cohorts = visits.groupby(['first_visit_month','cohort_lifetime']).agg({'uid':'nunique'}).reset_index() \n",
    " \n",
    "initial_users_count = cohorts[cohorts['cohort_lifetime'] == 0][['first_visit_month','uid']]\n",
    " \n",
    "initial_users_count = initial_users_count.rename(columns={'uid':'cohort_users'}) \n",
    " \n",
    "cohorts = cohorts.merge(initial_users_count,on='first_visit_month') \n",
    "cohorts['retention'] = cohorts['uid']/cohorts['cohort_users']\n",
    "retention_pivot = cohorts.pivot_table(index='first_visit_month',\n",
    "                                      columns='cohort_lifetime',values='retention',aggfunc='sum') \n",
    "\n",
    "plt.figure(figsize=(13, 9))\n",
    "plt.title('Retention Rate')\n",
    "sns.heatmap(retention_pivot, annot=True, fmt='.1%', linewidths=1, vmin=0, vmax=0.1, linecolor='white'); \n"
   ]
  },
  {
   "cell_type": "markdown",
   "metadata": {},
   "source": [
    "**ВЫВОД**\n",
    "\n",
    "\n",
    "Retention Rate показывает, сколько пользователей из когорты относительно их изначального числа вернулось в последующие периоды.Больше всего удалось удержать пользователей из кагорты июня 2017 г за весь период, на второй месяц   максимально в процентном отношении 8,5 %  пользователей  кагорты купили сентября 2017 г повторно.   \n"
   ]
  },
  {
   "cell_type": "markdown",
   "metadata": {},
   "source": [
    "## Метрики электронной коммерции\n",
    "<a class=\"ancor\" id=\"step_11\"></a>"
   ]
  },
  {
   "cell_type": "markdown",
   "metadata": {},
   "source": [
    "### Среднее время  совершения покупки  с момента первого посещения\n",
    "<a class=\"ancor\" id=\"step_12\"></a>"
   ]
  },
  {
   "cell_type": "code",
   "execution_count": 16,
   "metadata": {},
   "outputs": [
    {
     "name": "stdout",
     "output_type": "stream",
     "text": [
      "             period\n",
      "count  36523.000000\n",
      "mean   14949.881445\n",
      "std    25784.567076\n",
      "min        0.000000\n",
      "25%      240.000000\n",
      "50%      960.000000\n",
      "75%    15120.000000\n",
      "max    86340.000000\n",
      "\n",
      "Распределения без нулевых значений периода\n",
      "             period\n",
      "count  34056.000000\n",
      "mean   16032.843552\n",
      "std    26375.041400\n",
      "min       60.000000\n",
      "25%      300.000000\n",
      "50%     1200.000000\n",
      "75%    18600.000000\n",
      "max    86340.000000\n"
     ]
    }
   ],
   "source": [
    "first_visit = visits[visits['start'] == visits['first_visit']]\n",
    "\n",
    "first_buy= orders.groupby('uid')['buy'].min()\n",
    "first_buy.name = 'first_buy'\n",
    "orders = orders.join(first_buy, on='uid')\n",
    "first_order = orders[orders['buy'] == orders['first_buy']]\n",
    "first = first_visit.join(first_buy, on = 'uid')\n",
    "first['period'] = (first['first_buy'] - first['first_visit']).dt.seconds\n",
    "\n",
    "period_for_first_buy =first.pivot_table(index = 'uid', values ='period', aggfunc = 'mean')\n",
    "\n",
    "print(period_for_first_buy.describe())\n",
    "print()\n",
    "print(\"Распределения без нулевых значений периода\")\n",
    "print(period_for_first_buy[period_for_first_buy['period'] != 0].describe())"
   ]
  },
  {
   "cell_type": "markdown",
   "metadata": {},
   "source": [
    "**ВЫВОД** \n",
    "\n",
    "В среднем (по медиане) проходит 960 сек (16 мин) с момента первого посещения сайта  до совершения первой покупки.Обращает на себя внимание, что есть покупки, которые совершались сразу,т.е.  время принятия решения 0 сек.Если убрать эти строки, то среднее время совершения покупки с момента первого посещения увеличится до 20 мин."
   ]
  },
  {
   "cell_type": "markdown",
   "metadata": {},
   "source": [
    "### Расчет среднего количества покупок\n",
    "<a class=\"ancor\" id=\"step_13\"></a>"
   ]
  },
  {
   "cell_type": "code",
   "execution_count": 17,
   "metadata": {},
   "outputs": [
    {
     "name": "stdout",
     "output_type": "stream",
     "text": [
      "                uid first_order_month\n",
      "0   313578113262317        2018-01-01\n",
      "1  1575281904278712        2017-06-01\n",
      "2  2429014661409475        2017-10-01\n",
      "3  2464366381792757        2018-01-01\n",
      "4  2551852515556206        2017-11-01\n",
      "<class 'pandas.core.frame.DataFrame'>\n",
      "Int64Index: 50415 entries, 0 to 50414\n",
      "Data columns (total 9 columns):\n",
      "buy                  50415 non-null datetime64[ns]\n",
      "revenue              50415 non-null float64\n",
      "uid                  50415 non-null uint64\n",
      "first_buy            50415 non-null datetime64[ns]\n",
      "date                 50415 non-null object\n",
      "month                50415 non-null int64\n",
      "year                 50415 non-null int64\n",
      "order_month          50415 non-null datetime64[ns]\n",
      "first_order_month    50415 non-null datetime64[ns]\n",
      "dtypes: datetime64[ns](4), float64(1), int64(2), object(1), uint64(1)\n",
      "memory usage: 3.8+ MB\n",
      "None\n"
     ]
    },
    {
     "data": {
      "text/html": [
       "<div>\n",
       "<style scoped>\n",
       "    .dataframe tbody tr th:only-of-type {\n",
       "        vertical-align: middle;\n",
       "    }\n",
       "\n",
       "    .dataframe tbody tr th {\n",
       "        vertical-align: top;\n",
       "    }\n",
       "\n",
       "    .dataframe thead th {\n",
       "        text-align: right;\n",
       "    }\n",
       "</style>\n",
       "<table border=\"1\" class=\"dataframe\">\n",
       "  <thead>\n",
       "    <tr style=\"text-align: right;\">\n",
       "      <th>order_month</th>\n",
       "      <th>2017-06-01</th>\n",
       "      <th>2017-07-01</th>\n",
       "      <th>2017-08-01</th>\n",
       "      <th>2017-09-01</th>\n",
       "      <th>2017-10-01</th>\n",
       "      <th>2017-11-01</th>\n",
       "      <th>2017-12-01</th>\n",
       "      <th>2018-01-01</th>\n",
       "      <th>2018-02-01</th>\n",
       "      <th>2018-03-01</th>\n",
       "      <th>2018-04-01</th>\n",
       "      <th>2018-05-01</th>\n",
       "      <th>2018-06-01</th>\n",
       "    </tr>\n",
       "    <tr>\n",
       "      <th>first_order_month</th>\n",
       "      <th></th>\n",
       "      <th></th>\n",
       "      <th></th>\n",
       "      <th></th>\n",
       "      <th></th>\n",
       "      <th></th>\n",
       "      <th></th>\n",
       "      <th></th>\n",
       "      <th></th>\n",
       "      <th></th>\n",
       "      <th></th>\n",
       "      <th></th>\n",
       "      <th></th>\n",
       "    </tr>\n",
       "  </thead>\n",
       "  <tbody>\n",
       "    <tr>\n",
       "      <td>2017-06-01</td>\n",
       "      <td>1.2</td>\n",
       "      <td>2.9</td>\n",
       "      <td>3.5</td>\n",
       "      <td>4.2</td>\n",
       "      <td>3.3</td>\n",
       "      <td>3.3</td>\n",
       "      <td>4.5</td>\n",
       "      <td>3.7</td>\n",
       "      <td>3.7</td>\n",
       "      <td>3.4</td>\n",
       "      <td>2.1</td>\n",
       "      <td>1.6</td>\n",
       "      <td></td>\n",
       "    </tr>\n",
       "    <tr>\n",
       "      <td>2017-07-01</td>\n",
       "      <td></td>\n",
       "      <td>1.1</td>\n",
       "      <td>1.9</td>\n",
       "      <td>2.1</td>\n",
       "      <td>1.6</td>\n",
       "      <td>1.5</td>\n",
       "      <td>2.2</td>\n",
       "      <td>1.7</td>\n",
       "      <td>1.3</td>\n",
       "      <td>1.4</td>\n",
       "      <td>1.1</td>\n",
       "      <td>2</td>\n",
       "      <td></td>\n",
       "    </tr>\n",
       "    <tr>\n",
       "      <td>2017-08-01</td>\n",
       "      <td></td>\n",
       "      <td></td>\n",
       "      <td>1.1</td>\n",
       "      <td>1.9</td>\n",
       "      <td>1.9</td>\n",
       "      <td>1.8</td>\n",
       "      <td>2.1</td>\n",
       "      <td>1.9</td>\n",
       "      <td>1.6</td>\n",
       "      <td>1.8</td>\n",
       "      <td>2.4</td>\n",
       "      <td>1.5</td>\n",
       "      <td></td>\n",
       "    </tr>\n",
       "    <tr>\n",
       "      <td>2017-09-01</td>\n",
       "      <td></td>\n",
       "      <td></td>\n",
       "      <td></td>\n",
       "      <td>1.1</td>\n",
       "      <td>1.7</td>\n",
       "      <td>1.6</td>\n",
       "      <td>2.2</td>\n",
       "      <td>1.3</td>\n",
       "      <td>1.7</td>\n",
       "      <td>1.6</td>\n",
       "      <td>1.5</td>\n",
       "      <td>1.4</td>\n",
       "      <td></td>\n",
       "    </tr>\n",
       "    <tr>\n",
       "      <td>2017-10-01</td>\n",
       "      <td></td>\n",
       "      <td></td>\n",
       "      <td></td>\n",
       "      <td></td>\n",
       "      <td>1.1</td>\n",
       "      <td>1.5</td>\n",
       "      <td>1.3</td>\n",
       "      <td>1.3</td>\n",
       "      <td>1.4</td>\n",
       "      <td>1.4</td>\n",
       "      <td>1.5</td>\n",
       "      <td>1.9</td>\n",
       "      <td></td>\n",
       "    </tr>\n",
       "    <tr>\n",
       "      <td>2017-11-01</td>\n",
       "      <td></td>\n",
       "      <td></td>\n",
       "      <td></td>\n",
       "      <td></td>\n",
       "      <td></td>\n",
       "      <td>1.2</td>\n",
       "      <td>1.8</td>\n",
       "      <td>1.5</td>\n",
       "      <td>2</td>\n",
       "      <td>1.7</td>\n",
       "      <td>1.2</td>\n",
       "      <td>1.6</td>\n",
       "      <td></td>\n",
       "    </tr>\n",
       "    <tr>\n",
       "      <td>2017-12-01</td>\n",
       "      <td></td>\n",
       "      <td></td>\n",
       "      <td></td>\n",
       "      <td></td>\n",
       "      <td></td>\n",
       "      <td></td>\n",
       "      <td>1.2</td>\n",
       "      <td>1.8</td>\n",
       "      <td>2</td>\n",
       "      <td>1.8</td>\n",
       "      <td>1.7</td>\n",
       "      <td>1.7</td>\n",
       "      <td></td>\n",
       "    </tr>\n",
       "    <tr>\n",
       "      <td>2018-01-01</td>\n",
       "      <td></td>\n",
       "      <td></td>\n",
       "      <td></td>\n",
       "      <td></td>\n",
       "      <td></td>\n",
       "      <td></td>\n",
       "      <td></td>\n",
       "      <td>1.1</td>\n",
       "      <td>2</td>\n",
       "      <td>1.9</td>\n",
       "      <td>1.5</td>\n",
       "      <td>1.7</td>\n",
       "      <td></td>\n",
       "    </tr>\n",
       "    <tr>\n",
       "      <td>2018-02-01</td>\n",
       "      <td></td>\n",
       "      <td></td>\n",
       "      <td></td>\n",
       "      <td></td>\n",
       "      <td></td>\n",
       "      <td></td>\n",
       "      <td></td>\n",
       "      <td></td>\n",
       "      <td>1.1</td>\n",
       "      <td>1.9</td>\n",
       "      <td>1.4</td>\n",
       "      <td>1.8</td>\n",
       "      <td></td>\n",
       "    </tr>\n",
       "    <tr>\n",
       "      <td>2018-03-01</td>\n",
       "      <td></td>\n",
       "      <td></td>\n",
       "      <td></td>\n",
       "      <td></td>\n",
       "      <td></td>\n",
       "      <td></td>\n",
       "      <td></td>\n",
       "      <td></td>\n",
       "      <td></td>\n",
       "      <td>1.2</td>\n",
       "      <td>2</td>\n",
       "      <td>3</td>\n",
       "      <td></td>\n",
       "    </tr>\n",
       "    <tr>\n",
       "      <td>2018-04-01</td>\n",
       "      <td></td>\n",
       "      <td></td>\n",
       "      <td></td>\n",
       "      <td></td>\n",
       "      <td></td>\n",
       "      <td></td>\n",
       "      <td></td>\n",
       "      <td></td>\n",
       "      <td></td>\n",
       "      <td></td>\n",
       "      <td>1.1</td>\n",
       "      <td>2.8</td>\n",
       "      <td></td>\n",
       "    </tr>\n",
       "    <tr>\n",
       "      <td>2018-05-01</td>\n",
       "      <td></td>\n",
       "      <td></td>\n",
       "      <td></td>\n",
       "      <td></td>\n",
       "      <td></td>\n",
       "      <td></td>\n",
       "      <td></td>\n",
       "      <td></td>\n",
       "      <td></td>\n",
       "      <td></td>\n",
       "      <td></td>\n",
       "      <td>1.1</td>\n",
       "      <td></td>\n",
       "    </tr>\n",
       "    <tr>\n",
       "      <td>2018-06-01</td>\n",
       "      <td></td>\n",
       "      <td></td>\n",
       "      <td></td>\n",
       "      <td></td>\n",
       "      <td></td>\n",
       "      <td></td>\n",
       "      <td></td>\n",
       "      <td></td>\n",
       "      <td></td>\n",
       "      <td></td>\n",
       "      <td></td>\n",
       "      <td></td>\n",
       "      <td>1</td>\n",
       "    </tr>\n",
       "  </tbody>\n",
       "</table>\n",
       "</div>"
      ],
      "text/plain": [
       "order_month       2017-06-01 2017-07-01 2017-08-01 2017-09-01 2017-10-01  \\\n",
       "first_order_month                                                          \n",
       "2017-06-01               1.2        2.9        3.5        4.2        3.3   \n",
       "2017-07-01                          1.1        1.9        2.1        1.6   \n",
       "2017-08-01                                     1.1        1.9        1.9   \n",
       "2017-09-01                                                1.1        1.7   \n",
       "2017-10-01                                                           1.1   \n",
       "2017-11-01                                                                 \n",
       "2017-12-01                                                                 \n",
       "2018-01-01                                                                 \n",
       "2018-02-01                                                                 \n",
       "2018-03-01                                                                 \n",
       "2018-04-01                                                                 \n",
       "2018-05-01                                                                 \n",
       "2018-06-01                                                                 \n",
       "\n",
       "order_month       2017-11-01 2017-12-01 2018-01-01 2018-02-01 2018-03-01  \\\n",
       "first_order_month                                                          \n",
       "2017-06-01               3.3        4.5        3.7        3.7        3.4   \n",
       "2017-07-01               1.5        2.2        1.7        1.3        1.4   \n",
       "2017-08-01               1.8        2.1        1.9        1.6        1.8   \n",
       "2017-09-01               1.6        2.2        1.3        1.7        1.6   \n",
       "2017-10-01               1.5        1.3        1.3        1.4        1.4   \n",
       "2017-11-01               1.2        1.8        1.5          2        1.7   \n",
       "2017-12-01                          1.2        1.8          2        1.8   \n",
       "2018-01-01                                     1.1          2        1.9   \n",
       "2018-02-01                                                1.1        1.9   \n",
       "2018-03-01                                                           1.2   \n",
       "2018-04-01                                                                 \n",
       "2018-05-01                                                                 \n",
       "2018-06-01                                                                 \n",
       "\n",
       "order_month       2018-04-01 2018-05-01 2018-06-01  \n",
       "first_order_month                                   \n",
       "2017-06-01               2.1        1.6             \n",
       "2017-07-01               1.1          2             \n",
       "2017-08-01               2.4        1.5             \n",
       "2017-09-01               1.5        1.4             \n",
       "2017-10-01               1.5        1.9             \n",
       "2017-11-01               1.2        1.6             \n",
       "2017-12-01               1.7        1.7             \n",
       "2018-01-01               1.5        1.7             \n",
       "2018-02-01               1.4        1.8             \n",
       "2018-03-01                 2          3             \n",
       "2018-04-01               1.1        2.8             \n",
       "2018-05-01                          1.1             \n",
       "2018-06-01                                       1  "
      ]
     },
     "execution_count": 17,
     "metadata": {},
     "output_type": "execute_result"
    }
   ],
   "source": [
    "orders['date'] = orders['buy'].dt.date\n",
    "orders['month'] = orders['buy'].dt.month\n",
    "orders['year'] = orders['buy'].dt.year\n",
    "orders['order_month'] = orders['date'].astype('datetime64[M]')\n",
    "\n",
    "first_orders = orders.groupby('uid').agg({'order_month': 'min'}).reset_index()\n",
    "first_orders.columns = ['uid', 'first_order_month']\n",
    "print(first_orders.head()) \n",
    "\n",
    "orders_new = pd.merge(orders,first_orders)\n",
    "print(orders_new.info()) \n",
    "\n",
    "cohort_buy_mean = orders_new.groupby(['first_order_month','order_month'])\\\n",
    ".agg({'uid':['nunique','count']}).reset_index()\n",
    "cohort_buy_mean.columns = ['first_order_month','order_month', 'n_buys', 'count_buys']\n",
    "cohort_buy_mean['buys_month'] = cohort_buy_mean['count_buys'] / cohort_buy_mean['n_buys']\n",
    "cohort_buy_mean_pivot = cohort_buy_mean.pivot_table(index='first_order_month', columns = 'order_month', \\\n",
    "                            values = 'buys_month', aggfunc = 'mean').round(1)\n",
    "cohort_buy_mean_pivot.fillna('')"
   ]
  },
  {
   "cell_type": "code",
   "execution_count": 18,
   "metadata": {},
   "outputs": [
    {
     "name": "stdout",
     "output_type": "stream",
     "text": [
      "Среднее количество покупок за 6 месяцев на 1 клиента: 6.92\n"
     ]
    }
   ],
   "source": [
    "m6_cum_buy = cohort_buy_mean_pivot.cumsum(axis=1).mean(axis=0)[5]\n",
    "print('Среднее количество покупок за 6 месяцев на 1 клиента:', m6_cum_buy.round(2))"
   ]
  },
  {
   "cell_type": "markdown",
   "metadata": {},
   "source": [
    "**ВЫВOД**\n",
    "\n",
    "Среднее количество покупок за 6 месяцев на 1 клиента  - 7"
   ]
  },
  {
   "cell_type": "markdown",
   "metadata": {},
   "source": [
    "### Расчет средней выручки с пользователя. Изменение метрики с течением времени.\n",
    "<a class=\"ancor\" id=\"step_14\"></a>"
   ]
  },
  {
   "cell_type": "code",
   "execution_count": 19,
   "metadata": {},
   "outputs": [
    {
     "name": "stdout",
     "output_type": "stream",
     "text": [
      "Средняя выручка за период с пользователя: 3.05\n"
     ]
    },
    {
     "data": {
      "image/png": "[encoded data removed]",
      "text/plain": [
       "<Figure size 432x288 with 1 Axes>"
      ]
     },
     "metadata": {
      "needs_background": "light"
     },
     "output_type": "display_data"
    },
    {
     "data": {
      "image/png": "[encoded data removed]",
      "text/plain": [
       "<Figure size 504x360 with 1 Axes>"
      ]
     },
     "metadata": {
      "needs_background": "light"
     },
     "output_type": "display_data"
    }
   ],
   "source": [
    "revenue_per_user = orders.pivot_table(index = 'uid', values = 'revenue', aggfunc = 'sum')\n",
    "\n",
    "#display(revenue_per_user.head())\n",
    "print('Средняя выручка за период с пользователя:', revenue_per_user['revenue'].median().round(2))\n",
    "\n",
    "revenue_per_user['revenue'].hist(bins=60, range = (0,60))\n",
    "plt.title(\"Распределение выручки по пользователям\")\n",
    "plt.xlabel(\"Выручка, у.е.\")\n",
    "plt.ylabel(\"Количество пользователей\")\n",
    "plt.show()\n",
    "\n",
    "revenue_per_user_month = (orders\n",
    "                          .pivot_table(index = ['year', 'month','uid'], values = 'revenue', aggfunc = 'sum')\n",
    "                          .reset_index())\n",
    "                            \n",
    "(revenue_per_user_month\n",
    " .pivot_table(index = ['year','month'], values = 'revenue', aggfunc = 'median')\n",
    " .plot(kind = 'bar', figsize = (7,5)))\n",
    "plt.title(\"Изменение средней выручки c пользователя с течением времени\")\n",
    "plt.xlabel(\"Месяц, год\")\n",
    "plt.ylabel(\"Выручка, у.е.\")\n",
    "plt.show()"
   ]
  },
  {
   "cell_type": "markdown",
   "metadata": {},
   "source": [
    "**ВЫВОД**\n",
    "\n",
    "Средняя выручка за период с пользователя: 3.05.\n",
    "Средняя выручка за период с пользователя изменялась в исследуемый период, она была максимальна в июле 2017 и июне 2018, около 3, 5 у.е."
   ]
  },
  {
   "cell_type": "markdown",
   "metadata": {},
   "source": [
    "### LTV по кагортам\n",
    "<a class=\"ancor\" id=\"step_15\"></a>"
   ]
  },
  {
   "cell_type": "code",
   "execution_count": 20,
   "metadata": {},
   "outputs": [
    {
     "data": {
      "text/html": [
       "<div>\n",
       "<style scoped>\n",
       "    .dataframe tbody tr th:only-of-type {\n",
       "        vertical-align: middle;\n",
       "    }\n",
       "\n",
       "    .dataframe tbody tr th {\n",
       "        vertical-align: top;\n",
       "    }\n",
       "\n",
       "    .dataframe thead th {\n",
       "        text-align: right;\n",
       "    }\n",
       "</style>\n",
       "<table border=\"1\" class=\"dataframe\">\n",
       "  <thead>\n",
       "    <tr style=\"text-align: right;\">\n",
       "      <th>age</th>\n",
       "      <th>0</th>\n",
       "      <th>1</th>\n",
       "      <th>2</th>\n",
       "      <th>3</th>\n",
       "      <th>4</th>\n",
       "      <th>5</th>\n",
       "      <th>6</th>\n",
       "      <th>7</th>\n",
       "      <th>8</th>\n",
       "      <th>9</th>\n",
       "      <th>10</th>\n",
       "      <th>11</th>\n",
       "    </tr>\n",
       "    <tr>\n",
       "      <th>first_order_month</th>\n",
       "      <th></th>\n",
       "      <th></th>\n",
       "      <th></th>\n",
       "      <th></th>\n",
       "      <th></th>\n",
       "      <th></th>\n",
       "      <th></th>\n",
       "      <th></th>\n",
       "      <th></th>\n",
       "      <th></th>\n",
       "      <th></th>\n",
       "      <th></th>\n",
       "    </tr>\n",
       "  </thead>\n",
       "  <tbody>\n",
       "    <tr>\n",
       "      <td>2017-06-01</td>\n",
       "      <td>4.7</td>\n",
       "      <td>0.5</td>\n",
       "      <td>0.4</td>\n",
       "      <td>1</td>\n",
       "      <td>1</td>\n",
       "      <td>0.7</td>\n",
       "      <td>1</td>\n",
       "      <td>0.6</td>\n",
       "      <td>0.6</td>\n",
       "      <td>0.6</td>\n",
       "      <td>0.6</td>\n",
       "      <td>0.3</td>\n",
       "    </tr>\n",
       "    <tr>\n",
       "      <td>2017-07-01</td>\n",
       "      <td>6.0</td>\n",
       "      <td>0.3</td>\n",
       "      <td>0.6</td>\n",
       "      <td>0.4</td>\n",
       "      <td>0.2</td>\n",
       "      <td>0.2</td>\n",
       "      <td>0.1</td>\n",
       "      <td>0.1</td>\n",
       "      <td>0.2</td>\n",
       "      <td>0.1</td>\n",
       "      <td>0.2</td>\n",
       "      <td></td>\n",
       "    </tr>\n",
       "    <tr>\n",
       "      <td>2017-08-01</td>\n",
       "      <td>5.3</td>\n",
       "      <td>0.5</td>\n",
       "      <td>0.5</td>\n",
       "      <td>0.4</td>\n",
       "      <td>0.5</td>\n",
       "      <td>0.3</td>\n",
       "      <td>0.2</td>\n",
       "      <td>0.4</td>\n",
       "      <td>0.3</td>\n",
       "      <td>0.2</td>\n",
       "      <td></td>\n",
       "      <td></td>\n",
       "    </tr>\n",
       "    <tr>\n",
       "      <td>2017-09-01</td>\n",
       "      <td>5.6</td>\n",
       "      <td>1.1</td>\n",
       "      <td>0.5</td>\n",
       "      <td>4</td>\n",
       "      <td>0.4</td>\n",
       "      <td>0.6</td>\n",
       "      <td>0.7</td>\n",
       "      <td>0.2</td>\n",
       "      <td>0.2</td>\n",
       "      <td></td>\n",
       "      <td></td>\n",
       "      <td></td>\n",
       "    </tr>\n",
       "    <tr>\n",
       "      <td>2017-10-01</td>\n",
       "      <td>5.0</td>\n",
       "      <td>0.5</td>\n",
       "      <td>0.2</td>\n",
       "      <td>0.2</td>\n",
       "      <td>0.2</td>\n",
       "      <td>0.1</td>\n",
       "      <td>0.1</td>\n",
       "      <td>0.1</td>\n",
       "      <td></td>\n",
       "      <td></td>\n",
       "      <td></td>\n",
       "      <td></td>\n",
       "    </tr>\n",
       "    <tr>\n",
       "      <td>2017-11-01</td>\n",
       "      <td>5.2</td>\n",
       "      <td>0.4</td>\n",
       "      <td>0.2</td>\n",
       "      <td>0.3</td>\n",
       "      <td>0.1</td>\n",
       "      <td>0.1</td>\n",
       "      <td>0.1</td>\n",
       "      <td></td>\n",
       "      <td></td>\n",
       "      <td></td>\n",
       "      <td></td>\n",
       "      <td></td>\n",
       "    </tr>\n",
       "    <tr>\n",
       "      <td>2017-12-01</td>\n",
       "      <td>4.7</td>\n",
       "      <td>0.3</td>\n",
       "      <td>0.9</td>\n",
       "      <td>1.1</td>\n",
       "      <td>0.3</td>\n",
       "      <td>0.3</td>\n",
       "      <td></td>\n",
       "      <td></td>\n",
       "      <td></td>\n",
       "      <td></td>\n",
       "      <td></td>\n",
       "      <td></td>\n",
       "    </tr>\n",
       "    <tr>\n",
       "      <td>2018-01-01</td>\n",
       "      <td>4.1</td>\n",
       "      <td>0.3</td>\n",
       "      <td>0.3</td>\n",
       "      <td>0.1</td>\n",
       "      <td>0.1</td>\n",
       "      <td></td>\n",
       "      <td></td>\n",
       "      <td></td>\n",
       "      <td></td>\n",
       "      <td></td>\n",
       "      <td></td>\n",
       "      <td></td>\n",
       "    </tr>\n",
       "    <tr>\n",
       "      <td>2018-02-01</td>\n",
       "      <td>4.2</td>\n",
       "      <td>0.3</td>\n",
       "      <td>0.1</td>\n",
       "      <td>0.1</td>\n",
       "      <td></td>\n",
       "      <td></td>\n",
       "      <td></td>\n",
       "      <td></td>\n",
       "      <td></td>\n",
       "      <td></td>\n",
       "      <td></td>\n",
       "      <td></td>\n",
       "    </tr>\n",
       "    <tr>\n",
       "      <td>2018-03-01</td>\n",
       "      <td>4.8</td>\n",
       "      <td>0.3</td>\n",
       "      <td>0.3</td>\n",
       "      <td></td>\n",
       "      <td></td>\n",
       "      <td></td>\n",
       "      <td></td>\n",
       "      <td></td>\n",
       "      <td></td>\n",
       "      <td></td>\n",
       "      <td></td>\n",
       "      <td></td>\n",
       "    </tr>\n",
       "    <tr>\n",
       "      <td>2018-04-01</td>\n",
       "      <td>4.7</td>\n",
       "      <td>0.5</td>\n",
       "      <td></td>\n",
       "      <td></td>\n",
       "      <td></td>\n",
       "      <td></td>\n",
       "      <td></td>\n",
       "      <td></td>\n",
       "      <td></td>\n",
       "      <td></td>\n",
       "      <td></td>\n",
       "      <td></td>\n",
       "    </tr>\n",
       "    <tr>\n",
       "      <td>2018-05-01</td>\n",
       "      <td>4.7</td>\n",
       "      <td></td>\n",
       "      <td></td>\n",
       "      <td></td>\n",
       "      <td></td>\n",
       "      <td></td>\n",
       "      <td></td>\n",
       "      <td></td>\n",
       "      <td></td>\n",
       "      <td></td>\n",
       "      <td></td>\n",
       "      <td></td>\n",
       "    </tr>\n",
       "    <tr>\n",
       "      <td>2018-06-01</td>\n",
       "      <td>3.4</td>\n",
       "      <td></td>\n",
       "      <td></td>\n",
       "      <td></td>\n",
       "      <td></td>\n",
       "      <td></td>\n",
       "      <td></td>\n",
       "      <td></td>\n",
       "      <td></td>\n",
       "      <td></td>\n",
       "      <td></td>\n",
       "      <td></td>\n",
       "    </tr>\n",
       "  </tbody>\n",
       "</table>\n",
       "</div>"
      ],
      "text/plain": [
       "age                 0    1    2    3    4    5    6    7    8    9    10   11\n",
       "first_order_month                                                            \n",
       "2017-06-01         4.7  0.5  0.4    1    1  0.7    1  0.6  0.6  0.6  0.6  0.3\n",
       "2017-07-01         6.0  0.3  0.6  0.4  0.2  0.2  0.1  0.1  0.2  0.1  0.2     \n",
       "2017-08-01         5.3  0.5  0.5  0.4  0.5  0.3  0.2  0.4  0.3  0.2          \n",
       "2017-09-01         5.6  1.1  0.5    4  0.4  0.6  0.7  0.2  0.2               \n",
       "2017-10-01         5.0  0.5  0.2  0.2  0.2  0.1  0.1  0.1                    \n",
       "2017-11-01         5.2  0.4  0.2  0.3  0.1  0.1  0.1                         \n",
       "2017-12-01         4.7  0.3  0.9  1.1  0.3  0.3                              \n",
       "2018-01-01         4.1  0.3  0.3  0.1  0.1                                   \n",
       "2018-02-01         4.2  0.3  0.1  0.1                                        \n",
       "2018-03-01         4.8  0.3  0.3                                             \n",
       "2018-04-01         4.7  0.5                                                  \n",
       "2018-05-01         4.7                                                       \n",
       "2018-06-01         3.4                                                       "
      ]
     },
     "execution_count": 20,
     "metadata": {},
     "output_type": "execute_result"
    }
   ],
   "source": [
    "cohort_sizes = first_orders.groupby('first_order_month').agg({'uid': 'nunique'}).reset_index()\n",
    "cohort_sizes.columns = ['first_order_month', 'n_buyers']\n",
    "\n",
    "cohorts = orders_new.groupby(['first_order_month','order_month']).agg({'revenue': 'sum'}).reset_index()\n",
    "\n",
    "report = pd.merge(cohort_sizes, cohorts, on='first_order_month')\n",
    "\n",
    "margin_rate = 1\n",
    "    \n",
    "report['gp'] = report['revenue'] * margin_rate\n",
    "report['age'] = (report['order_month'] - report['first_order_month']) / np.timedelta64(1, 'M')\n",
    "report['age'] = report['age'].round().astype('int')\n",
    "\n",
    "report['ltv'] = report['gp'] / report['n_buyers']\n",
    "    \n",
    "output = report.pivot_table(\n",
    "        index='first_order_month', \n",
    "        columns='age', \n",
    "        values='ltv', \n",
    "        aggfunc='mean').round(1)\n",
    "\n",
    "output.fillna('') "
   ]
  },
  {
   "cell_type": "code",
   "execution_count": 21,
   "metadata": {},
   "outputs": [
    {
     "name": "stdout",
     "output_type": "stream",
     "text": [
      "Средний LTV за 6 месяцев после первой покупки: 7.971428571428572\n"
     ]
    }
   ],
   "source": [
    "m6_cum_ltv = output.cumsum(axis=1).mean(axis=0)[5]\n",
    "print('Средний LTV за 6 месяцев после первой покупки:', m6_cum_ltv)"
   ]
  },
  {
   "cell_type": "code",
   "execution_count": 22,
   "metadata": {},
   "outputs": [
    {
     "name": "stdout",
     "output_type": "stream",
     "text": [
      "LTV за 6 месяцев когорты 2017_06: 8.3\n",
      "LTV за 6 месяцев когорты 2017_07: 7.7\n",
      "LTV за 6 месяцев когорты 2017_08: 7.5\n",
      "LTV за 6 месяцев когорты 2017_09: 12.2\n",
      "LTV за 6 месяцев когорты 2017_10: 6.2\n",
      "LTV за 6 месяцев когорты 2017_11: 6.3\n",
      "LTV за 6 месяцев когорты 2017_12: 7.6\n"
     ]
    }
   ],
   "source": [
    "print('LTV за 6 месяцев когорты 2017_06:', output.loc['2017-06-01'].cumsum(axis=0)[5])\n",
    "print('LTV за 6 месяцев когорты 2017_07:', output.loc['2017-07-01'].cumsum(axis=0)[5])\n",
    "print('LTV за 6 месяцев когорты 2017_08:', output.loc['2017-08-01'].cumsum(axis=0)[5])\n",
    "print('LTV за 6 месяцев когорты 2017_09:', output.loc['2017-09-01'].cumsum(axis=0)[5])\n",
    "print('LTV за 6 месяцев когорты 2017_10:', output.loc['2017-10-01'].cumsum(axis=0)[5])\n",
    "print('LTV за 6 месяцев когорты 2017_11:', output.loc['2017-11-01'].cumsum(axis=0)[5])\n",
    "print('LTV за 6 месяцев когорты 2017_12:', output.loc['2017-12-01'].cumsum(axis=0)[5])"
   ]
  },
  {
   "cell_type": "markdown",
   "metadata": {},
   "source": [
    "**ВЫВОД**\n",
    "\n",
    "В среднем каждый покупатель принес по 8 у.е за 6 месяцев «жизни».\n",
    "Больше всего выручка с каждого покупателя когорты  сентября 2017 за 6 месяцев."
   ]
  },
  {
   "cell_type": "markdown",
   "metadata": {},
   "source": [
    "## Маркетинговые метрики\n",
    "<a class=\"ancor\" id=\"step_16\"></a>"
   ]
  },
  {
   "cell_type": "markdown",
   "metadata": {},
   "source": [
    "### Общая сумма расходов. Расходы по источникам трафика\n",
    "<a class=\"ancor\" id=\"step_17\"></a>"
   ]
  },
  {
   "cell_type": "code",
   "execution_count": 23,
   "metadata": {},
   "outputs": [
    {
     "name": "stdout",
     "output_type": "stream",
     "text": [
      "Общая сумма расходов на маркетинг 329131.62 у.е.\n"
     ]
    },
    {
     "data": {
      "image/png": "[encoded data removed]",
      "text/plain": [
       "<Figure size 504x360 with 1 Axes>"
      ]
     },
     "metadata": {
      "needs_background": "light"
     },
     "output_type": "display_data"
    },
    {
     "data": {
      "image/png": "[encoded data removed]",
      "text/plain": [
       "<Figure size 504x360 with 1 Axes>"
      ]
     },
     "metadata": {
      "needs_background": "light"
     },
     "output_type": "display_data"
    }
   ],
   "source": [
    "costs.head()\n",
    "print('Общая сумма расходов на маркетинг', costs['costs'].sum(), 'у.е.')\n",
    "\n",
    "costs.pivot_table(index = 'source_id', values = 'costs', aggfunc = 'sum').plot(kind = 'barh', figsize = (7,5))\n",
    "plt.title(\"Распределение расходов по источникам\")\n",
    "plt.xlabel(\"Расходы, у.е.\")\n",
    "plt.ylabel(\"Источник\")\n",
    "plt.show()\n",
    "\n",
    "costs['month'] = costs['dt'].dt.month\n",
    "costs['year'] = costs['dt'].dt.year\n",
    "\n",
    "(costs\n",
    " .pivot_table(index = ['year','month'], columns = 'source_id', values = 'costs', aggfunc = 'sum')\n",
    " .plot(figsize = (7,5)))\n",
    "plt.title(\"Расходы по источникам во времени\")\n",
    "plt.xlabel(\"Год,месяц\")\n",
    "plt.ylabel(\"расходы у.е.\")\n",
    "plt.show()"
   ]
  },
  {
   "cell_type": "markdown",
   "metadata": {},
   "source": [
    "**ВЫВОД**\n",
    "\n",
    "Больше всего было инвестировано в 3 источник трафика, меньше всего в 9 и 10. Расходов на 6,7,8 источники трафика не было.  "
   ]
  },
  {
   "cell_type": "markdown",
   "metadata": {},
   "source": [
    "### САС по источникам\n",
    "<a class=\"ancor\" id=\"step_18\"></a>"
   ]
  },
  {
   "cell_type": "code",
   "execution_count": 24,
   "metadata": {},
   "outputs": [],
   "source": [
    "first.pivot_table(index = 'source_id', values = 'first_buy', aggfunc = 'count')\n",
    "first_source_id = first.groupby('source_id').agg({'first_buy' : 'count'}).reset_index()\n",
    "costs_source_id = costs.pivot_table(index = 'source_id', values = 'costs', aggfunc = 'sum').reset_index()\n",
    "source_id = costs_source_id.merge(first_source_id, on = 'source_id')"
   ]
  },
  {
   "cell_type": "code",
   "execution_count": 25,
   "metadata": {},
   "outputs": [
    {
     "data": {
      "image/png": "[encoded data removed]",
      "text/plain": [
       "<Figure size 432x288 with 1 Axes>"
      ]
     },
     "metadata": {
      "needs_background": "light"
     },
     "output_type": "display_data"
    },
    {
     "data": {
      "text/html": [
       "<div>\n",
       "<style scoped>\n",
       "    .dataframe tbody tr th:only-of-type {\n",
       "        vertical-align: middle;\n",
       "    }\n",
       "\n",
       "    .dataframe tbody tr th {\n",
       "        vertical-align: top;\n",
       "    }\n",
       "\n",
       "    .dataframe thead th {\n",
       "        text-align: right;\n",
       "    }\n",
       "</style>\n",
       "<table border=\"1\" class=\"dataframe\">\n",
       "  <thead>\n",
       "    <tr style=\"text-align: right;\">\n",
       "      <th></th>\n",
       "      <th>source_id</th>\n",
       "      <th>costs</th>\n",
       "      <th>first_buy</th>\n",
       "      <th>cac</th>\n",
       "    </tr>\n",
       "  </thead>\n",
       "  <tbody>\n",
       "    <tr>\n",
       "      <td>0</td>\n",
       "      <td>1</td>\n",
       "      <td>20833.27</td>\n",
       "      <td>2899</td>\n",
       "      <td>7.2</td>\n",
       "    </tr>\n",
       "    <tr>\n",
       "      <td>1</td>\n",
       "      <td>2</td>\n",
       "      <td>42806.04</td>\n",
       "      <td>3506</td>\n",
       "      <td>12.2</td>\n",
       "    </tr>\n",
       "    <tr>\n",
       "      <td>2</td>\n",
       "      <td>3</td>\n",
       "      <td>141321.63</td>\n",
       "      <td>10473</td>\n",
       "      <td>13.5</td>\n",
       "    </tr>\n",
       "    <tr>\n",
       "      <td>3</td>\n",
       "      <td>4</td>\n",
       "      <td>61073.60</td>\n",
       "      <td>10296</td>\n",
       "      <td>5.9</td>\n",
       "    </tr>\n",
       "    <tr>\n",
       "      <td>4</td>\n",
       "      <td>5</td>\n",
       "      <td>51757.10</td>\n",
       "      <td>6931</td>\n",
       "      <td>7.5</td>\n",
       "    </tr>\n",
       "    <tr>\n",
       "      <td>5</td>\n",
       "      <td>9</td>\n",
       "      <td>5517.49</td>\n",
       "      <td>1088</td>\n",
       "      <td>5.1</td>\n",
       "    </tr>\n",
       "    <tr>\n",
       "      <td>6</td>\n",
       "      <td>10</td>\n",
       "      <td>5822.49</td>\n",
       "      <td>1329</td>\n",
       "      <td>4.4</td>\n",
       "    </tr>\n",
       "  </tbody>\n",
       "</table>\n",
       "</div>"
      ],
      "text/plain": [
       "   source_id      costs  first_buy   cac\n",
       "0          1   20833.27       2899   7.2\n",
       "1          2   42806.04       3506  12.2\n",
       "2          3  141321.63      10473  13.5\n",
       "3          4   61073.60      10296   5.9\n",
       "4          5   51757.10       6931   7.5\n",
       "5          9    5517.49       1088   5.1\n",
       "6         10    5822.49       1329   4.4"
      ]
     },
     "execution_count": 25,
     "metadata": {},
     "output_type": "execute_result"
    }
   ],
   "source": [
    "source_id['cac'] = (source_id['costs'] / source_id['first_buy']).round(1)\n",
    "\n",
    "source_id.plot(kind = 'bar', x = 'source_id', y = 'cac')\n",
    "plt.title(\"Стоимость привлечения покупателя по источникам\")\n",
    "plt.xlabel(\"Источник\")\n",
    "plt.ylabel(\"САС, у.е.\")\n",
    "plt.show()\n",
    "source_id"
   ]
  },
  {
   "cell_type": "markdown",
   "metadata": {},
   "source": [
    "**ВЫВОД**\n",
    "\n",
    "Наибольшая стоимость привлечения клиента  у 2 и 3 источника трафика 13,5 и 12,2, соотвественно, в то время как количество покупателей 10 473 и 3 506. Источник 4 интересен по этой метрике, цена привлечения в  более 2 раза ниже, чем у 3 источника, а количество покупателей сопоставимо 10 296.  Следует обратить внимание  и  на источник 5, стоимость привлечения относительно невысокая 7,5 у.е. и достаточно большое количество покупателей 6 931."
   ]
  },
  {
   "cell_type": "markdown",
   "metadata": {},
   "source": [
    "### ROMI:  окупаемость и в разрезе источников по когортам\n",
    "<a class=\"ancor\" id=\"step_19\"></a>"
   ]
  },
  {
   "cell_type": "code",
   "execution_count": 26,
   "metadata": {},
   "outputs": [
    {
     "data": {
      "text/html": [
       "<div>\n",
       "<style scoped>\n",
       "    .dataframe tbody tr th:only-of-type {\n",
       "        vertical-align: middle;\n",
       "    }\n",
       "\n",
       "    .dataframe tbody tr th {\n",
       "        vertical-align: top;\n",
       "    }\n",
       "\n",
       "    .dataframe thead th {\n",
       "        text-align: right;\n",
       "    }\n",
       "</style>\n",
       "<table border=\"1\" class=\"dataframe\">\n",
       "  <thead>\n",
       "    <tr style=\"text-align: right;\">\n",
       "      <th>age</th>\n",
       "      <th>0</th>\n",
       "      <th>1</th>\n",
       "      <th>2</th>\n",
       "      <th>3</th>\n",
       "      <th>4</th>\n",
       "      <th>5</th>\n",
       "      <th>6</th>\n",
       "      <th>7</th>\n",
       "      <th>8</th>\n",
       "      <th>9</th>\n",
       "      <th>10</th>\n",
       "      <th>11</th>\n",
       "    </tr>\n",
       "    <tr>\n",
       "      <th>first_order_month</th>\n",
       "      <th></th>\n",
       "      <th></th>\n",
       "      <th></th>\n",
       "      <th></th>\n",
       "      <th></th>\n",
       "      <th></th>\n",
       "      <th></th>\n",
       "      <th></th>\n",
       "      <th></th>\n",
       "      <th></th>\n",
       "      <th></th>\n",
       "      <th></th>\n",
       "    </tr>\n",
       "  </thead>\n",
       "  <tbody>\n",
       "    <tr>\n",
       "      <td>2017-06-01</td>\n",
       "      <td>0.53</td>\n",
       "      <td>0.59</td>\n",
       "      <td>0.63</td>\n",
       "      <td>0.74</td>\n",
       "      <td>0.86</td>\n",
       "      <td>0.94</td>\n",
       "      <td>1.05</td>\n",
       "      <td>1.11</td>\n",
       "      <td>1.17</td>\n",
       "      <td>1.24</td>\n",
       "      <td>1.31</td>\n",
       "      <td>1.33</td>\n",
       "    </tr>\n",
       "    <tr>\n",
       "      <td>2017-07-01</td>\n",
       "      <td>0.63</td>\n",
       "      <td>0.67</td>\n",
       "      <td>0.73</td>\n",
       "      <td>0.77</td>\n",
       "      <td>0.79</td>\n",
       "      <td>0.81</td>\n",
       "      <td>0.82</td>\n",
       "      <td>0.84</td>\n",
       "      <td>0.85</td>\n",
       "      <td>0.87</td>\n",
       "      <td>0.88</td>\n",
       "      <td></td>\n",
       "    </tr>\n",
       "    <tr>\n",
       "      <td>2017-08-01</td>\n",
       "      <td>0.49</td>\n",
       "      <td>0.53</td>\n",
       "      <td>0.57</td>\n",
       "      <td>0.61</td>\n",
       "      <td>0.66</td>\n",
       "      <td>0.68</td>\n",
       "      <td>0.7</td>\n",
       "      <td>0.74</td>\n",
       "      <td>0.77</td>\n",
       "      <td>0.78</td>\n",
       "      <td></td>\n",
       "      <td></td>\n",
       "    </tr>\n",
       "    <tr>\n",
       "      <td>2017-09-01</td>\n",
       "      <td>0.60</td>\n",
       "      <td>0.72</td>\n",
       "      <td>0.77</td>\n",
       "      <td>1.19</td>\n",
       "      <td>1.23</td>\n",
       "      <td>1.3</td>\n",
       "      <td>1.38</td>\n",
       "      <td>1.4</td>\n",
       "      <td>1.42</td>\n",
       "      <td></td>\n",
       "      <td></td>\n",
       "      <td></td>\n",
       "    </tr>\n",
       "    <tr>\n",
       "      <td>2017-10-01</td>\n",
       "      <td>0.60</td>\n",
       "      <td>0.66</td>\n",
       "      <td>0.68</td>\n",
       "      <td>0.7</td>\n",
       "      <td>0.72</td>\n",
       "      <td>0.74</td>\n",
       "      <td>0.75</td>\n",
       "      <td>0.76</td>\n",
       "      <td></td>\n",
       "      <td></td>\n",
       "      <td></td>\n",
       "      <td></td>\n",
       "    </tr>\n",
       "    <tr>\n",
       "      <td>2017-11-01</td>\n",
       "      <td>0.55</td>\n",
       "      <td>0.6</td>\n",
       "      <td>0.62</td>\n",
       "      <td>0.65</td>\n",
       "      <td>0.67</td>\n",
       "      <td>0.68</td>\n",
       "      <td>0.69</td>\n",
       "      <td></td>\n",
       "      <td></td>\n",
       "      <td></td>\n",
       "      <td></td>\n",
       "      <td></td>\n",
       "    </tr>\n",
       "    <tr>\n",
       "      <td>2017-12-01</td>\n",
       "      <td>0.54</td>\n",
       "      <td>0.57</td>\n",
       "      <td>0.68</td>\n",
       "      <td>0.8</td>\n",
       "      <td>0.84</td>\n",
       "      <td>0.87</td>\n",
       "      <td></td>\n",
       "      <td></td>\n",
       "      <td></td>\n",
       "      <td></td>\n",
       "      <td></td>\n",
       "      <td></td>\n",
       "    </tr>\n",
       "    <tr>\n",
       "      <td>2018-01-01</td>\n",
       "      <td>0.42</td>\n",
       "      <td>0.45</td>\n",
       "      <td>0.48</td>\n",
       "      <td>0.49</td>\n",
       "      <td>0.5</td>\n",
       "      <td></td>\n",
       "      <td></td>\n",
       "      <td></td>\n",
       "      <td></td>\n",
       "      <td></td>\n",
       "      <td></td>\n",
       "      <td></td>\n",
       "    </tr>\n",
       "    <tr>\n",
       "      <td>2018-02-01</td>\n",
       "      <td>0.46</td>\n",
       "      <td>0.49</td>\n",
       "      <td>0.5</td>\n",
       "      <td>0.51</td>\n",
       "      <td></td>\n",
       "      <td></td>\n",
       "      <td></td>\n",
       "      <td></td>\n",
       "      <td></td>\n",
       "      <td></td>\n",
       "      <td></td>\n",
       "      <td></td>\n",
       "    </tr>\n",
       "    <tr>\n",
       "      <td>2018-03-01</td>\n",
       "      <td>0.56</td>\n",
       "      <td>0.6</td>\n",
       "      <td>0.63</td>\n",
       "      <td></td>\n",
       "      <td></td>\n",
       "      <td></td>\n",
       "      <td></td>\n",
       "      <td></td>\n",
       "      <td></td>\n",
       "      <td></td>\n",
       "      <td></td>\n",
       "      <td></td>\n",
       "    </tr>\n",
       "    <tr>\n",
       "      <td>2018-04-01</td>\n",
       "      <td>0.48</td>\n",
       "      <td>0.53</td>\n",
       "      <td></td>\n",
       "      <td></td>\n",
       "      <td></td>\n",
       "      <td></td>\n",
       "      <td></td>\n",
       "      <td></td>\n",
       "      <td></td>\n",
       "      <td></td>\n",
       "      <td></td>\n",
       "      <td></td>\n",
       "    </tr>\n",
       "    <tr>\n",
       "      <td>2018-05-01</td>\n",
       "      <td>0.63</td>\n",
       "      <td></td>\n",
       "      <td></td>\n",
       "      <td></td>\n",
       "      <td></td>\n",
       "      <td></td>\n",
       "      <td></td>\n",
       "      <td></td>\n",
       "      <td></td>\n",
       "      <td></td>\n",
       "      <td></td>\n",
       "      <td></td>\n",
       "    </tr>\n",
       "  </tbody>\n",
       "</table>\n",
       "</div>"
      ],
      "text/plain": [
       "age                  0     1     2     3     4     5     6     7     8     9   \\\n",
       "first_order_month                                                               \n",
       "2017-06-01         0.53  0.59  0.63  0.74  0.86  0.94  1.05  1.11  1.17  1.24   \n",
       "2017-07-01         0.63  0.67  0.73  0.77  0.79  0.81  0.82  0.84  0.85  0.87   \n",
       "2017-08-01         0.49  0.53  0.57  0.61  0.66  0.68   0.7  0.74  0.77  0.78   \n",
       "2017-09-01         0.60  0.72  0.77  1.19  1.23   1.3  1.38   1.4  1.42         \n",
       "2017-10-01         0.60  0.66  0.68   0.7  0.72  0.74  0.75  0.76               \n",
       "2017-11-01         0.55   0.6  0.62  0.65  0.67  0.68  0.69                     \n",
       "2017-12-01         0.54  0.57  0.68   0.8  0.84  0.87                           \n",
       "2018-01-01         0.42  0.45  0.48  0.49   0.5                                 \n",
       "2018-02-01         0.46  0.49   0.5  0.51                                       \n",
       "2018-03-01         0.56   0.6  0.63                                             \n",
       "2018-04-01         0.48  0.53                                                   \n",
       "2018-05-01         0.63                                                         \n",
       "\n",
       "age                  10    11  \n",
       "first_order_month              \n",
       "2017-06-01         1.31  1.33  \n",
       "2017-07-01         0.88        \n",
       "2017-08-01                     \n",
       "2017-09-01                     \n",
       "2017-10-01                     \n",
       "2017-11-01                     \n",
       "2017-12-01                     \n",
       "2018-01-01                     \n",
       "2018-02-01                     \n",
       "2018-03-01                     \n",
       "2018-04-01                     \n",
       "2018-05-01                     "
      ]
     },
     "execution_count": 26,
     "metadata": {},
     "output_type": "execute_result"
    }
   ],
   "source": [
    "costs['date_month'] = costs['dt'].astype('datetime64[M]') \n",
    "monthly_costs = costs.groupby(['date_month'])['costs'].sum()\n",
    "report_new = pd.merge(report, monthly_costs, left_on='first_order_month', right_on='date_month')\n",
    "report_new['cac'] = report_new['costs'] / report_new['n_buyers']\n",
    "report_new['romi'] = report_new['ltv'] / report_new['cac']\n",
    "output1 = report_new.pivot_table(\n",
    "    index='first_order_month', \n",
    "    columns='age', \n",
    "    values='romi', \n",
    "    aggfunc='mean')\n",
    "\n",
    "output1.cumsum(axis=1).round(2).fillna('')"
   ]
  },
  {
   "cell_type": "code",
   "execution_count": 27,
   "metadata": {},
   "outputs": [
    {
     "data": {
      "text/plain": [
       "age\n",
       "0     0.540816\n",
       "1     0.581985\n",
       "2     0.631069\n",
       "3     0.719740\n",
       "4     0.782946\n",
       "5     0.859876\n",
       "6     0.896819\n",
       "7     0.969951\n",
       "8     1.053871\n",
       "9     0.964488\n",
       "10    1.094658\n",
       "11    1.333982\n",
       "dtype: float64"
      ]
     },
     "execution_count": 27,
     "metadata": {},
     "output_type": "execute_result"
    }
   ],
   "source": [
    "output1.cumsum(axis=1).mean(axis=0) "
   ]
  },
  {
   "cell_type": "code",
   "execution_count": 28,
   "metadata": {},
   "outputs": [
    {
     "data": {
      "text/html": [
       "<div>\n",
       "<style scoped>\n",
       "    .dataframe tbody tr th:only-of-type {\n",
       "        vertical-align: middle;\n",
       "    }\n",
       "\n",
       "    .dataframe tbody tr th {\n",
       "        vertical-align: top;\n",
       "    }\n",
       "\n",
       "    .dataframe thead th {\n",
       "        text-align: right;\n",
       "    }\n",
       "</style>\n",
       "<table border=\"1\" class=\"dataframe\">\n",
       "  <thead>\n",
       "    <tr style=\"text-align: right;\">\n",
       "      <th></th>\n",
       "      <th>source_id</th>\n",
       "      <th>first_order_month</th>\n",
       "      <th>revenue</th>\n",
       "    </tr>\n",
       "  </thead>\n",
       "  <tbody>\n",
       "    <tr>\n",
       "      <td>0</td>\n",
       "      <td>1</td>\n",
       "      <td>2017-06-01</td>\n",
       "      <td>6392.39</td>\n",
       "    </tr>\n",
       "    <tr>\n",
       "      <td>1</td>\n",
       "      <td>1</td>\n",
       "      <td>2017-07-01</td>\n",
       "      <td>3342.52</td>\n",
       "    </tr>\n",
       "    <tr>\n",
       "      <td>2</td>\n",
       "      <td>1</td>\n",
       "      <td>2017-08-01</td>\n",
       "      <td>2110.91</td>\n",
       "    </tr>\n",
       "    <tr>\n",
       "      <td>3</td>\n",
       "      <td>1</td>\n",
       "      <td>2017-09-01</td>\n",
       "      <td>2364.55</td>\n",
       "    </tr>\n",
       "    <tr>\n",
       "      <td>4</td>\n",
       "      <td>1</td>\n",
       "      <td>2017-10-01</td>\n",
       "      <td>2850.08</td>\n",
       "    </tr>\n",
       "    <tr>\n",
       "      <td>...</td>\n",
       "      <td>...</td>\n",
       "      <td>...</td>\n",
       "      <td>...</td>\n",
       "    </tr>\n",
       "    <tr>\n",
       "      <td>81</td>\n",
       "      <td>10</td>\n",
       "      <td>2018-01-01</td>\n",
       "      <td>292.93</td>\n",
       "    </tr>\n",
       "    <tr>\n",
       "      <td>82</td>\n",
       "      <td>10</td>\n",
       "      <td>2018-02-01</td>\n",
       "      <td>319.02</td>\n",
       "    </tr>\n",
       "    <tr>\n",
       "      <td>83</td>\n",
       "      <td>10</td>\n",
       "      <td>2018-03-01</td>\n",
       "      <td>657.44</td>\n",
       "    </tr>\n",
       "    <tr>\n",
       "      <td>84</td>\n",
       "      <td>10</td>\n",
       "      <td>2018-04-01</td>\n",
       "      <td>261.93</td>\n",
       "    </tr>\n",
       "    <tr>\n",
       "      <td>85</td>\n",
       "      <td>10</td>\n",
       "      <td>2018-05-01</td>\n",
       "      <td>470.89</td>\n",
       "    </tr>\n",
       "  </tbody>\n",
       "</table>\n",
       "<p>86 rows × 3 columns</p>\n",
       "</div>"
      ],
      "text/plain": [
       "    source_id first_order_month  revenue\n",
       "0           1        2017-06-01  6392.39\n",
       "1           1        2017-07-01  3342.52\n",
       "2           1        2017-08-01  2110.91\n",
       "3           1        2017-09-01  2364.55\n",
       "4           1        2017-10-01  2850.08\n",
       "..        ...               ...      ...\n",
       "81         10        2018-01-01   292.93\n",
       "82         10        2018-02-01   319.02\n",
       "83         10        2018-03-01   657.44\n",
       "84         10        2018-04-01   261.93\n",
       "85         10        2018-05-01   470.89\n",
       "\n",
       "[86 rows x 3 columns]"
      ]
     },
     "execution_count": 28,
     "metadata": {},
     "output_type": "execute_result"
    }
   ],
   "source": [
    "first_new = first.dropna()\n",
    "first_new=first_new.loc[:,['device', 'uid', 'source_id']]\n",
    "orders_ltv = pd.merge(orders, first_new, on = 'uid') \n",
    "\n",
    "orders_ltv['first_order_month'] = orders_ltv['first_buy'].astype('datetime64[M]') \n",
    "\n",
    "orders_ltv_new = orders_ltv.groupby(['source_id', 'first_order_month',]).agg({'revenue' : 'sum'}).reset_index()\n",
    "orders_ltv_new.columns  = ['source_id', 'first_order_month', 'revenue']   \n",
    "orders_ltv_new                          "
   ]
  },
  {
   "cell_type": "code",
   "execution_count": 29,
   "metadata": {},
   "outputs": [
    {
     "data": {
      "text/html": [
       "<div>\n",
       "<style scoped>\n",
       "    .dataframe tbody tr th:only-of-type {\n",
       "        vertical-align: middle;\n",
       "    }\n",
       "\n",
       "    .dataframe tbody tr th {\n",
       "        vertical-align: top;\n",
       "    }\n",
       "\n",
       "    .dataframe thead th {\n",
       "        text-align: right;\n",
       "    }\n",
       "</style>\n",
       "<table border=\"1\" class=\"dataframe\">\n",
       "  <thead>\n",
       "    <tr style=\"text-align: right;\">\n",
       "      <th></th>\n",
       "      <th>first_order_month</th>\n",
       "      <th>source_id</th>\n",
       "      <th>revenue</th>\n",
       "      <th>costs</th>\n",
       "    </tr>\n",
       "  </thead>\n",
       "  <tbody>\n",
       "    <tr>\n",
       "      <td>0</td>\n",
       "      <td>2017-06-01</td>\n",
       "      <td>1</td>\n",
       "      <td>6392.39</td>\n",
       "      <td>1125.61</td>\n",
       "    </tr>\n",
       "    <tr>\n",
       "      <td>1</td>\n",
       "      <td>2017-06-01</td>\n",
       "      <td>2</td>\n",
       "      <td>3915.26</td>\n",
       "      <td>2427.38</td>\n",
       "    </tr>\n",
       "    <tr>\n",
       "      <td>2</td>\n",
       "      <td>2017-06-01</td>\n",
       "      <td>3</td>\n",
       "      <td>3640.32</td>\n",
       "      <td>7731.65</td>\n",
       "    </tr>\n",
       "    <tr>\n",
       "      <td>3</td>\n",
       "      <td>2017-06-01</td>\n",
       "      <td>4</td>\n",
       "      <td>4992.67</td>\n",
       "      <td>3514.80</td>\n",
       "    </tr>\n",
       "    <tr>\n",
       "      <td>4</td>\n",
       "      <td>2017-06-01</td>\n",
       "      <td>5</td>\n",
       "      <td>4377.64</td>\n",
       "      <td>2616.12</td>\n",
       "    </tr>\n",
       "    <tr>\n",
       "      <td>...</td>\n",
       "      <td>...</td>\n",
       "      <td>...</td>\n",
       "      <td>...</td>\n",
       "      <td>...</td>\n",
       "    </tr>\n",
       "    <tr>\n",
       "      <td>79</td>\n",
       "      <td>2018-05-01</td>\n",
       "      <td>3</td>\n",
       "      <td>3256.54</td>\n",
       "      <td>9411.42</td>\n",
       "    </tr>\n",
       "    <tr>\n",
       "      <td>80</td>\n",
       "      <td>2018-05-01</td>\n",
       "      <td>4</td>\n",
       "      <td>3802.91</td>\n",
       "      <td>4214.21</td>\n",
       "    </tr>\n",
       "    <tr>\n",
       "      <td>81</td>\n",
       "      <td>2018-05-01</td>\n",
       "      <td>5</td>\n",
       "      <td>2094.04</td>\n",
       "      <td>3669.56</td>\n",
       "    </tr>\n",
       "    <tr>\n",
       "      <td>82</td>\n",
       "      <td>2018-05-01</td>\n",
       "      <td>9</td>\n",
       "      <td>223.05</td>\n",
       "      <td>362.17</td>\n",
       "    </tr>\n",
       "    <tr>\n",
       "      <td>83</td>\n",
       "      <td>2018-05-01</td>\n",
       "      <td>10</td>\n",
       "      <td>470.89</td>\n",
       "      <td>409.86</td>\n",
       "    </tr>\n",
       "  </tbody>\n",
       "</table>\n",
       "<p>84 rows × 4 columns</p>\n",
       "</div>"
      ],
      "text/plain": [
       "   first_order_month  source_id  revenue    costs\n",
       "0         2017-06-01          1  6392.39  1125.61\n",
       "1         2017-06-01          2  3915.26  2427.38\n",
       "2         2017-06-01          3  3640.32  7731.65\n",
       "3         2017-06-01          4  4992.67  3514.80\n",
       "4         2017-06-01          5  4377.64  2616.12\n",
       "..               ...        ...      ...      ...\n",
       "79        2018-05-01          3  3256.54  9411.42\n",
       "80        2018-05-01          4  3802.91  4214.21\n",
       "81        2018-05-01          5  2094.04  3669.56\n",
       "82        2018-05-01          9   223.05   362.17\n",
       "83        2018-05-01         10   470.89   409.86\n",
       "\n",
       "[84 rows x 4 columns]"
      ]
     },
     "execution_count": 29,
     "metadata": {},
     "output_type": "execute_result"
    }
   ],
   "source": [
    "orders_ltv_1 = orders_ltv.pivot_table(index = ['first_order_month', 'source_id'], values = 'revenue', aggfunc = 'sum').reset_index()\n",
    "orders_ltv_1.columns = ['first_order_month', 'source_id', 'revenue']\n",
    "x = costs.pivot_table(index = ['date_month','source_id'], values = 'costs', aggfunc = 'sum').reset_index()\n",
    "x.columns = ['first_order_month', 'source_id', 'costs']\n",
    "y = pd.merge(orders_ltv_1, x, on = ['first_order_month', 'source_id'])\n",
    "y"
   ]
  },
  {
   "cell_type": "code",
   "execution_count": 30,
   "metadata": {},
   "outputs": [],
   "source": [
    "y['romi'] = y['revenue'] / y['costs']\n",
    "romi_cahort = y.pivot_table(index = 'first_order_month', columns = 'source_id', values = 'romi', aggfunc = 'mean')"
   ]
  },
  {
   "cell_type": "code",
   "execution_count": 31,
   "metadata": {},
   "outputs": [
    {
     "data": {
      "image/png": "[encoded data removed]",
      "text/plain": [
       "<Figure size 936x648 with 2 Axes>"
      ]
     },
     "metadata": {
      "needs_background": "light"
     },
     "output_type": "display_data"
    }
   ],
   "source": [
    "plt.figure(figsize=(13, 9))\n",
    "plt.title('ROMI')\n",
    "sns.heatmap(romi_cahort, annot=True, fmt='.1%', linewidths=1, linecolor='white'); "
   ]
  },
  {
   "cell_type": "markdown",
   "metadata": {},
   "source": [
    "**ВЫВОД**\n",
    "\n",
    "У 3 источника  ни в одной когорте затраты не окупились\n",
    "\n",
    "Окупились когорты 1 и 9, остальные убыточны, в среднем когорты могут начать окупаться, начиная с 8 месяца. \n",
    "\n",
    "У 1 и 2 источника трафика  окупились по  6 когорт, при этом ROMI когорты июня 2017 величина порядка 500 %, визитеры из этих источников могут стать очень выгодными покупателями."
   ]
  },
  {
   "cell_type": "markdown",
   "metadata": {},
   "source": [
    "<a class=\"ancor\" id=\"step_20\"></a>\n",
    "# Выводы и рекомендации"
   ]
  },
  {
   "cell_type": "code",
   "execution_count": 32,
   "metadata": {},
   "outputs": [
    {
     "data": {
      "image/png": "[encoded data removed]",
      "text/plain": [
       "<Figure size 432x288 with 1 Axes>"
      ]
     },
     "metadata": {
      "needs_background": "light"
     },
     "output_type": "display_data"
    },
    {
     "data": {
      "image/png": "[encoded data removed]",
      "text/plain": [
       "<Figure size 432x288 with 1 Axes>"
      ]
     },
     "metadata": {
      "needs_background": "light"
     },
     "output_type": "display_data"
    }
   ],
   "source": [
    "orders_ltv.pivot_table(index = 'source_id', columns = 'device', values = 'revenue', aggfunc = 'sum').plot(kind = 'bar')\n",
    "plt.xlabel(\"Источник\")\n",
    "plt.ylabel(\"Выручка за период, у.е.\")\n",
    "plt.title(\"Выручка в разрезе типа устройства и источников, у.е.\")\n",
    "plt.show()\n",
    "visits.pivot_table(index = 'source_id', columns = 'device',values = 'uid', aggfunc = 'nunique').plot(kind = 'bar')\n",
    "plt.xlabel(\"Источник\")\n",
    "plt.ylabel(\"Количество посетителей\")\n",
    "plt.title(\"Количество посетителей в разрезе источников\")\n",
    "plt.show()"
   ]
  },
  {
   "cell_type": "code",
   "execution_count": 33,
   "metadata": {},
   "outputs": [
    {
     "name": "stdout",
     "output_type": "stream",
     "text": [
      "Метрики в разрезе устройств\n"
     ]
    },
    {
     "data": {
      "text/html": [
       "<div>\n",
       "<style scoped>\n",
       "    .dataframe tbody tr th:only-of-type {\n",
       "        vertical-align: middle;\n",
       "    }\n",
       "\n",
       "    .dataframe tbody tr th {\n",
       "        vertical-align: top;\n",
       "    }\n",
       "\n",
       "    .dataframe thead th {\n",
       "        text-align: right;\n",
       "    }\n",
       "</style>\n",
       "<table border=\"1\" class=\"dataframe\">\n",
       "  <thead>\n",
       "    <tr style=\"text-align: right;\">\n",
       "      <th></th>\n",
       "      <th>source_id</th>\n",
       "      <th>n_visits</th>\n",
       "      <th>n_orders</th>\n",
       "      <th>revenue</th>\n",
       "      <th>conv, %</th>\n",
       "      <th>cac</th>\n",
       "      <th>ltv</th>\n",
       "      <th>romi</th>\n",
       "    </tr>\n",
       "  </thead>\n",
       "  <tbody>\n",
       "    <tr>\n",
       "      <td>0</td>\n",
       "      <td>1</td>\n",
       "      <td>18999</td>\n",
       "      <td>2899</td>\n",
       "      <td>31090.55</td>\n",
       "      <td>15.3</td>\n",
       "      <td>7.2</td>\n",
       "      <td>10.7</td>\n",
       "      <td>1.49</td>\n",
       "    </tr>\n",
       "    <tr>\n",
       "      <td>1</td>\n",
       "      <td>2</td>\n",
       "      <td>26245</td>\n",
       "      <td>3506</td>\n",
       "      <td>46923.61</td>\n",
       "      <td>13.4</td>\n",
       "      <td>12.2</td>\n",
       "      <td>13.4</td>\n",
       "      <td>1.10</td>\n",
       "    </tr>\n",
       "    <tr>\n",
       "      <td>2</td>\n",
       "      <td>3</td>\n",
       "      <td>74756</td>\n",
       "      <td>10473</td>\n",
       "      <td>54511.24</td>\n",
       "      <td>14.0</td>\n",
       "      <td>13.5</td>\n",
       "      <td>5.2</td>\n",
       "      <td>0.39</td>\n",
       "    </tr>\n",
       "    <tr>\n",
       "      <td>3</td>\n",
       "      <td>4</td>\n",
       "      <td>83525</td>\n",
       "      <td>10296</td>\n",
       "      <td>56696.83</td>\n",
       "      <td>12.3</td>\n",
       "      <td>5.9</td>\n",
       "      <td>5.5</td>\n",
       "      <td>0.93</td>\n",
       "    </tr>\n",
       "    <tr>\n",
       "      <td>4</td>\n",
       "      <td>5</td>\n",
       "      <td>56974</td>\n",
       "      <td>6931</td>\n",
       "      <td>52624.02</td>\n",
       "      <td>12.2</td>\n",
       "      <td>7.5</td>\n",
       "      <td>7.6</td>\n",
       "      <td>1.01</td>\n",
       "    </tr>\n",
       "    <tr>\n",
       "      <td>5</td>\n",
       "      <td>9</td>\n",
       "      <td>9264</td>\n",
       "      <td>1088</td>\n",
       "      <td>5759.40</td>\n",
       "      <td>11.7</td>\n",
       "      <td>5.1</td>\n",
       "      <td>5.3</td>\n",
       "      <td>1.04</td>\n",
       "    </tr>\n",
       "    <tr>\n",
       "      <td>6</td>\n",
       "      <td>10</td>\n",
       "      <td>8067</td>\n",
       "      <td>1329</td>\n",
       "      <td>4450.33</td>\n",
       "      <td>16.5</td>\n",
       "      <td>4.4</td>\n",
       "      <td>3.3</td>\n",
       "      <td>0.75</td>\n",
       "    </tr>\n",
       "  </tbody>\n",
       "</table>\n",
       "</div>"
      ],
      "text/plain": [
       "   source_id  n_visits  n_orders   revenue  conv, %   cac   ltv  romi\n",
       "0          1     18999      2899  31090.55     15.3   7.2  10.7  1.49\n",
       "1          2     26245      3506  46923.61     13.4  12.2  13.4  1.10\n",
       "2          3     74756     10473  54511.24     14.0  13.5   5.2  0.39\n",
       "3          4     83525     10296  56696.83     12.3   5.9   5.5  0.93\n",
       "4          5     56974      6931  52624.02     12.2   7.5   7.6  1.01\n",
       "5          9      9264      1088   5759.40     11.7   5.1   5.3  1.04\n",
       "6         10      8067      1329   4450.33     16.5   4.4   3.3  0.75"
      ]
     },
     "execution_count": 33,
     "metadata": {},
     "output_type": "execute_result"
    }
   ],
   "source": [
    "visits_source_id = visits.pivot_table(index = 'source_id', values = 'uid', aggfunc ={'uid':'nunique'}).reset_index()\n",
    "visits_source_id.columns = ['source_id', 'n_visits']\n",
    "\n",
    "buys_source_id = orders_ltv.groupby(['source_id']).agg({'uid' : 'nunique', 'revenue' : 'sum'}).reset_index()\n",
    "buys_source_id.columns = ['source_id', 'n_orders', 'revenue']\n",
    "\n",
    "metriki = pd.merge(visits_source_id, buys_source_id, on = 'source_id')\n",
    "metriki['conv, %'] = (metriki['n_orders'] / metriki['n_visits'] * 100).round(1)\n",
    "source_id_new = source_id.loc[:,['source_id', 'cac']]\n",
    "metriki_new = pd.merge(metriki, source_id_new, on = 'source_id')\n",
    "metriki_new ['ltv'] = (metriki_new ['revenue'] / metriki_new ['n_orders']).round(1)\n",
    "metriki_new ['romi'] = (metriki_new ['ltv'] / metriki_new ['cac']).round(2)\n",
    "print('Метрики в разрезе устройств')\n",
    "metriki_new "
   ]
  },
  {
   "cell_type": "markdown",
   "metadata": {},
   "source": [
    " **Выводы и рекомендации**"
   ]
  },
  {
   "cell_type": "markdown",
   "metadata": {},
   "source": [
    "1.Графики распределения и распределения пользователей по типам устройств и источникам трафика свидетельствуют, что\n",
    "большинство пользователей узнали о ресурсе Яндекс.Афиша  с компьютера независимо какой источник трафика они использовали, а не с мобильного устройства. Значительная часть выручки \"пришла\" от покупателей, которые увидели рекламу на компьютере. Из чего можно сделать рекомендацию маркетологам поставить в приоритет рекламу на компьютерах.\n",
    "\n",
    "\n",
    "2.Для оптимизации расходов затраты на рекламу по 3, 4 источнику трафика  имеет смысл перераспределить на другие источники (особенно у 3 источника, он  наиболее убыточен), а именно на 1, затраты по которому окупаются на величину порядка 50 % (romi 1,49),2, 9 и 5.\n",
    "\n",
    "Однако, стоит обратить внимание, что большая часть визитов и покупок были совершены благодаря 3 и 4 источнику, возможно, там более удачно преподнесена информация о Яндекс.Афише и стоит дать рекламу в других источниках по аналогии с этими источниками трафика.\n",
    "\n",
    "\n",
    "3.Самые перспективные для компании когорты  - июнь и сентябрь 2017 г. "
   ]
  }
 ],
 "metadata": {
  "ExecuteTimeLog": [
   {
    "duration": 1560,
    "start_time": "2021-08-20T07:39:02.598Z"
   },
   {
    "duration": 1249,
    "start_time": "2021-08-20T07:39:08.555Z"
   },
   {
    "duration": 1182,
    "start_time": "2021-08-20T07:39:59.405Z"
   },
   {
    "duration": 1194,
    "start_time": "2021-08-20T07:41:06.695Z"
   },
   {
    "duration": 113,
    "start_time": "2021-08-20T07:42:28.598Z"
   },
   {
    "duration": 166,
    "start_time": "2021-08-20T07:45:29.967Z"
   },
   {
    "duration": 157,
    "start_time": "2021-08-20T07:45:52.328Z"
   },
   {
    "duration": 118,
    "start_time": "2021-08-20T07:46:21.346Z"
   },
   {
    "duration": 5542,
    "start_time": "2021-08-20T07:47:49.847Z"
   },
   {
    "duration": 5795,
    "start_time": "2021-08-20T07:48:54.066Z"
   },
   {
    "duration": 5065,
    "start_time": "2021-08-20T07:49:53.367Z"
   },
   {
    "duration": 1593,
    "start_time": "2021-08-20T07:50:09.762Z"
   },
   {
    "duration": 1235,
    "start_time": "2021-08-20T07:50:14.191Z"
   },
   {
    "duration": 19,
    "start_time": "2021-08-20T07:50:19.670Z"
   },
   {
    "duration": 24,
    "start_time": "2021-08-20T07:50:54.780Z"
   },
   {
    "duration": 52,
    "start_time": "2021-08-20T07:53:56.130Z"
   },
   {
    "duration": 452,
    "start_time": "2021-08-20T07:54:49.027Z"
   },
   {
    "duration": 3678,
    "start_time": "2021-08-20T07:54:54.547Z"
   },
   {
    "duration": 1311,
    "start_time": "2021-08-20T07:55:00.778Z"
   },
   {
    "duration": 18,
    "start_time": "2021-08-20T07:55:10.236Z"
   },
   {
    "duration": 27,
    "start_time": "2021-08-20T07:55:14.797Z"
   },
   {
    "duration": 154,
    "start_time": "2021-08-20T07:55:27.577Z"
   },
   {
    "duration": 58,
    "start_time": "2021-08-20T07:55:35.207Z"
   },
   {
    "duration": 144,
    "start_time": "2021-08-20T08:08:10.493Z"
   },
   {
    "duration": 11,
    "start_time": "2021-08-20T08:08:13.766Z"
   },
   {
    "duration": 145,
    "start_time": "2021-08-20T08:13:01.077Z"
   },
   {
    "duration": 5364,
    "start_time": "2021-08-20T08:13:42.437Z"
   },
   {
    "duration": 1426,
    "start_time": "2021-08-20T08:14:13.023Z"
   },
   {
    "duration": 1189,
    "start_time": "2021-08-20T08:14:18.719Z"
   },
   {
    "duration": 19,
    "start_time": "2021-08-20T08:14:24.556Z"
   },
   {
    "duration": 25,
    "start_time": "2021-08-20T08:14:26.803Z"
   },
   {
    "duration": 59,
    "start_time": "2021-08-20T08:14:30.197Z"
   },
   {
    "duration": 129,
    "start_time": "2021-08-20T08:14:41.613Z"
   },
   {
    "duration": 11,
    "start_time": "2021-08-20T08:14:46.039Z"
   },
   {
    "duration": 106,
    "start_time": "2021-08-20T08:14:49.315Z"
   },
   {
    "duration": 5210,
    "start_time": "2021-08-20T08:14:53.630Z"
   },
   {
    "duration": 5419,
    "start_time": "2021-08-20T08:15:50.661Z"
   },
   {
    "duration": 1554,
    "start_time": "2021-08-20T08:17:20.110Z"
   },
   {
    "duration": 1235,
    "start_time": "2021-08-20T08:17:27.245Z"
   },
   {
    "duration": 20,
    "start_time": "2021-08-20T08:17:32.267Z"
   },
   {
    "duration": 25,
    "start_time": "2021-08-20T08:17:34.962Z"
   },
   {
    "duration": 57,
    "start_time": "2021-08-20T08:17:38.402Z"
   },
   {
    "duration": 141,
    "start_time": "2021-08-20T08:17:41.396Z"
   },
   {
    "duration": 11,
    "start_time": "2021-08-20T08:17:44.625Z"
   },
   {
    "duration": 80,
    "start_time": "2021-08-20T08:17:49.706Z"
   },
   {
    "duration": 5975,
    "start_time": "2021-08-20T08:17:53.416Z"
   },
   {
    "duration": 1663,
    "start_time": "2021-08-20T08:20:18.821Z"
   },
   {
    "duration": 1157,
    "start_time": "2021-08-20T08:20:52.360Z"
   },
   {
    "duration": 19,
    "start_time": "2021-08-20T08:21:08.379Z"
   },
   {
    "duration": 26,
    "start_time": "2021-08-20T08:21:09.540Z"
   },
   {
    "duration": 57,
    "start_time": "2021-08-20T08:21:10.577Z"
   },
   {
    "duration": 140,
    "start_time": "2021-08-20T08:21:14.290Z"
   },
   {
    "duration": 143,
    "start_time": "2021-08-20T08:21:30.770Z"
   },
   {
    "duration": 11,
    "start_time": "2021-08-20T08:21:35.620Z"
   },
   {
    "duration": 78,
    "start_time": "2021-08-20T08:21:41.935Z"
   },
   {
    "duration": 5409,
    "start_time": "2021-08-20T08:21:45.811Z"
   },
   {
    "duration": 5946,
    "start_time": "2021-08-20T08:22:34.309Z"
   },
   {
    "duration": 1028,
    "start_time": "2021-08-20T08:26:07.861Z"
   },
   {
    "duration": 19,
    "start_time": "2021-08-20T08:26:14.280Z"
   },
   {
    "duration": 49,
    "start_time": "2021-08-20T08:26:18.419Z"
   },
   {
    "duration": 57,
    "start_time": "2021-08-20T08:26:28.778Z"
   },
   {
    "duration": 99,
    "start_time": "2021-08-20T08:26:42.163Z"
   },
   {
    "duration": 10,
    "start_time": "2021-08-20T08:26:45.590Z"
   },
   {
    "duration": 63,
    "start_time": "2021-08-20T08:26:47.932Z"
   },
   {
    "duration": 5185,
    "start_time": "2021-08-20T08:26:52.092Z"
   },
   {
    "duration": 1504,
    "start_time": "2021-08-20T08:27:21.743Z"
   },
   {
    "duration": 1182,
    "start_time": "2021-08-20T08:27:33.469Z"
   },
   {
    "duration": 26,
    "start_time": "2021-08-20T08:27:50.544Z"
   },
   {
    "duration": 25,
    "start_time": "2021-08-20T08:27:51.771Z"
   },
   {
    "duration": 56,
    "start_time": "2021-08-20T08:27:52.657Z"
   },
   {
    "duration": 103,
    "start_time": "2021-08-20T08:28:00.696Z"
   },
   {
    "duration": 10,
    "start_time": "2021-08-20T08:28:04.216Z"
   },
   {
    "duration": 97,
    "start_time": "2021-08-20T08:28:54.617Z"
   },
   {
    "duration": 5475,
    "start_time": "2021-08-20T08:28:58.431Z"
   },
   {
    "duration": 5288,
    "start_time": "2021-08-20T08:30:04.792Z"
   },
   {
    "duration": 1530,
    "start_time": "2021-08-20T08:32:14.330Z"
   },
   {
    "duration": 1081,
    "start_time": "2021-08-20T08:32:19.346Z"
   },
   {
    "duration": 105,
    "start_time": "2021-08-20T08:32:29.200Z"
   },
   {
    "duration": 19,
    "start_time": "2021-08-20T08:32:33.221Z"
   },
   {
    "duration": 26,
    "start_time": "2021-08-20T08:32:34.993Z"
   },
   {
    "duration": 59,
    "start_time": "2021-08-20T08:32:40.051Z"
   },
   {
    "duration": 5216,
    "start_time": "2021-08-20T08:32:53.031Z"
   },
   {
    "duration": 5644,
    "start_time": "2021-08-20T08:33:41.441Z"
   },
   {
    "duration": 5197,
    "start_time": "2021-08-20T08:34:00.903Z"
   },
   {
    "duration": 1488,
    "start_time": "2021-08-20T08:34:36.842Z"
   },
   {
    "duration": 1203,
    "start_time": "2021-08-20T08:34:40.622Z"
   },
   {
    "duration": 13306,
    "start_time": "2021-08-20T08:34:58.112Z"
   },
   {
    "duration": 92,
    "start_time": "2021-08-20T08:35:30.880Z"
   },
   {
    "duration": 78,
    "start_time": "2021-08-20T08:35:42.482Z"
   },
   {
    "duration": 5779,
    "start_time": "2021-08-20T08:35:46.193Z"
   },
   {
    "duration": 16,
    "start_time": "2021-08-20T08:36:06.014Z"
   },
   {
    "duration": 1530,
    "start_time": "2021-08-20T08:36:33.723Z"
   },
   {
    "duration": 1184,
    "start_time": "2021-08-20T08:36:39.922Z"
   },
   {
    "duration": 108,
    "start_time": "2021-08-20T08:36:45.422Z"
   },
   {
    "duration": 25,
    "start_time": "2021-08-20T08:36:48.103Z"
   },
   {
    "duration": 25,
    "start_time": "2021-08-20T08:36:50.301Z"
   },
   {
    "duration": 59,
    "start_time": "2021-08-20T08:36:52.872Z"
   },
   {
    "duration": 112,
    "start_time": "2021-08-20T08:37:58.923Z"
   },
   {
    "duration": 11,
    "start_time": "2021-08-20T08:38:06.727Z"
   },
   {
    "duration": 84,
    "start_time": "2021-08-20T08:38:13.313Z"
   },
   {
    "duration": 13,
    "start_time": "2021-08-20T08:38:20.419Z"
   },
   {
    "duration": 2122,
    "start_time": "2021-08-20T08:39:40.257Z"
   },
   {
    "duration": 16,
    "start_time": "2021-08-20T08:39:46.093Z"
   },
   {
    "duration": 541,
    "start_time": "2021-08-20T08:40:15.093Z"
   },
   {
    "duration": 407,
    "start_time": "2021-08-20T08:40:18.473Z"
   },
   {
    "duration": 4455,
    "start_time": "2021-08-20T08:40:45.158Z"
   },
   {
    "duration": 11084,
    "start_time": "2021-08-20T08:42:30.393Z"
   },
   {
    "duration": 4751,
    "start_time": "2021-08-20T08:46:00.884Z"
   },
   {
    "duration": 10643,
    "start_time": "2021-08-20T08:46:46.164Z"
   },
   {
    "duration": 4363,
    "start_time": "2021-08-20T08:47:27.949Z"
   },
   {
    "duration": 10578,
    "start_time": "2021-08-20T08:48:05.994Z"
   },
   {
    "duration": 4541,
    "start_time": "2021-08-20T08:48:23.162Z"
   },
   {
    "duration": 10518,
    "start_time": "2021-08-20T08:49:00.364Z"
   },
   {
    "duration": 4559,
    "start_time": "2021-08-20T08:49:14.080Z"
   },
   {
    "duration": 336,
    "start_time": "2021-08-20T08:49:56.669Z"
   },
   {
    "duration": 146,
    "start_time": "2021-08-20T08:50:43.833Z"
   },
   {
    "duration": 474,
    "start_time": "2021-08-20T08:51:15.969Z"
   },
   {
    "duration": 516,
    "start_time": "2021-08-20T08:51:29.438Z"
   },
   {
    "duration": 1567,
    "start_time": "2021-08-20T08:51:52.832Z"
   },
   {
    "duration": 1168,
    "start_time": "2021-08-20T08:51:54.402Z"
   },
   {
    "duration": 138,
    "start_time": "2021-08-20T08:51:55.574Z"
   },
   {
    "duration": 24,
    "start_time": "2021-08-20T08:51:55.715Z"
   },
   {
    "duration": 65,
    "start_time": "2021-08-20T08:51:55.743Z"
   },
   {
    "duration": 75,
    "start_time": "2021-08-20T08:51:55.811Z"
   },
   {
    "duration": 120,
    "start_time": "2021-08-20T08:51:55.889Z"
   },
   {
    "duration": 10,
    "start_time": "2021-08-20T08:51:56.013Z"
   },
   {
    "duration": 126,
    "start_time": "2021-08-20T08:51:56.026Z"
   },
   {
    "duration": 13,
    "start_time": "2021-08-20T08:51:56.154Z"
   },
   {
    "duration": 2166,
    "start_time": "2021-08-20T08:51:56.169Z"
   },
   {
    "duration": 14,
    "start_time": "2021-08-20T08:51:58.338Z"
   },
   {
    "duration": 661,
    "start_time": "2021-08-20T08:51:58.355Z"
   },
   {
    "duration": 640,
    "start_time": "2021-08-20T08:51:59.019Z"
   },
   {
    "duration": 4617,
    "start_time": "2021-08-20T08:51:59.661Z"
   },
   {
    "duration": 404,
    "start_time": "2021-08-20T08:52:04.281Z"
   },
   {
    "duration": 318,
    "start_time": "2021-08-20T08:52:04.687Z"
   },
   {
    "duration": 51,
    "start_time": "2021-08-20T08:52:05.008Z"
   },
   {
    "duration": 1001,
    "start_time": "2021-08-20T08:52:05.087Z"
   },
   {
    "duration": 119,
    "start_time": "2021-08-20T08:52:06.091Z"
   },
   {
    "duration": 7,
    "start_time": "2021-08-20T08:52:06.212Z"
   },
   {
    "duration": 29,
    "start_time": "2021-08-20T08:52:06.222Z"
   },
   {
    "duration": 727,
    "start_time": "2021-08-20T08:52:06.256Z"
   },
   {
    "duration": 38,
    "start_time": "2021-08-20T08:52:06.986Z"
   },
   {
    "duration": 318,
    "start_time": "2021-08-20T08:52:07.027Z"
   },
   {
    "duration": 80,
    "start_time": "2021-08-20T08:52:07.348Z"
   },
   {
    "duration": 8,
    "start_time": "2021-08-20T08:52:07.431Z"
   },
   {
    "duration": 131,
    "start_time": "2021-08-20T08:52:07.442Z"
   },
   {
    "duration": 59,
    "start_time": "2021-08-20T08:52:07.575Z"
   },
   {
    "duration": 53,
    "start_time": "2021-08-20T08:52:07.637Z"
   },
   {
    "duration": 1215,
    "start_time": "2021-08-20T08:52:07.693Z"
   },
   {
    "duration": 1053,
    "start_time": "2021-08-20T08:52:08.910Z"
   },
   {
    "duration": 152,
    "start_time": "2021-08-20T08:52:09.965Z"
   },
   {
    "duration": 38,
    "start_time": "2021-08-20T08:53:31.336Z"
   },
   {
    "duration": 36,
    "start_time": "2021-08-20T08:53:38.206Z"
   },
   {
    "duration": 34,
    "start_time": "2021-08-20T08:53:46.506Z"
   },
   {
    "duration": 632,
    "start_time": "2021-08-20T09:15:14.327Z"
   },
   {
    "duration": 464,
    "start_time": "2021-08-20T09:15:43.138Z"
   },
   {
    "duration": 16,
    "start_time": "2021-08-20T09:15:59.660Z"
   },
   {
    "duration": 143,
    "start_time": "2021-08-20T09:28:47.175Z"
   },
   {
    "duration": 201,
    "start_time": "2021-08-20T09:29:18.815Z"
   },
   {
    "duration": 197,
    "start_time": "2021-08-20T09:32:37.048Z"
   },
   {
    "duration": 6,
    "start_time": "2021-08-20T09:32:45.576Z"
   },
   {
    "duration": 103,
    "start_time": "2021-08-20T09:41:34.676Z"
   },
   {
    "duration": 1472,
    "start_time": "2021-08-23T08:03:40.543Z"
   },
   {
    "duration": 1015,
    "start_time": "2021-08-23T08:03:42.018Z"
   },
   {
    "duration": 105,
    "start_time": "2021-08-23T08:03:43.036Z"
   },
   {
    "duration": 17,
    "start_time": "2021-08-23T08:03:43.143Z"
   },
   {
    "duration": 41,
    "start_time": "2021-08-23T08:03:43.162Z"
   },
   {
    "duration": 55,
    "start_time": "2021-08-23T08:03:43.205Z"
   },
   {
    "duration": 126,
    "start_time": "2021-08-23T08:03:43.262Z"
   },
   {
    "duration": 9,
    "start_time": "2021-08-23T08:03:43.392Z"
   },
   {
    "duration": 61,
    "start_time": "2021-08-23T08:03:43.405Z"
   },
   {
    "duration": 24,
    "start_time": "2021-08-23T08:03:43.469Z"
   },
   {
    "duration": 2075,
    "start_time": "2021-08-23T08:03:43.496Z"
   },
   {
    "duration": 21,
    "start_time": "2021-08-23T08:03:45.573Z"
   },
   {
    "duration": 548,
    "start_time": "2021-08-23T08:03:45.597Z"
   },
   {
    "duration": 459,
    "start_time": "2021-08-23T08:03:46.147Z"
   },
   {
    "duration": 4716,
    "start_time": "2021-08-23T08:03:46.608Z"
   },
   {
    "duration": 382,
    "start_time": "2021-08-23T08:03:51.327Z"
   },
   {
    "duration": 16,
    "start_time": "2021-08-23T08:03:51.712Z"
   },
   {
    "duration": 221,
    "start_time": "2021-08-23T08:03:51.731Z"
   },
   {
    "duration": 28,
    "start_time": "2021-08-23T08:03:51.955Z"
   },
   {
    "duration": 952,
    "start_time": "2021-08-23T08:03:51.986Z"
   },
   {
    "duration": 96,
    "start_time": "2021-08-23T08:03:52.941Z"
   },
   {
    "duration": 6,
    "start_time": "2021-08-23T08:03:53.040Z"
   },
   {
    "duration": 9106,
    "start_time": "2021-08-23T08:03:53.051Z"
   },
   {
    "duration": -287,
    "start_time": "2021-08-23T08:04:02.447Z"
   },
   {
    "duration": -304,
    "start_time": "2021-08-23T08:04:02.466Z"
   },
   {
    "duration": -318,
    "start_time": "2021-08-23T08:04:02.482Z"
   },
   {
    "duration": -332,
    "start_time": "2021-08-23T08:04:02.497Z"
   },
   {
    "duration": -340,
    "start_time": "2021-08-23T08:04:02.506Z"
   },
   {
    "duration": -348,
    "start_time": "2021-08-23T08:04:02.516Z"
   },
   {
    "duration": -363,
    "start_time": "2021-08-23T08:04:02.532Z"
   },
   {
    "duration": -377,
    "start_time": "2021-08-23T08:04:02.548Z"
   },
   {
    "duration": -394,
    "start_time": "2021-08-23T08:04:02.566Z"
   },
   {
    "duration": -407,
    "start_time": "2021-08-23T08:04:02.581Z"
   },
   {
    "duration": -420,
    "start_time": "2021-08-23T08:04:02.596Z"
   },
   {
    "duration": 139,
    "start_time": "2021-08-23T08:05:48.476Z"
   },
   {
    "duration": 7,
    "start_time": "2021-08-23T08:05:53.433Z"
   },
   {
    "duration": 17,
    "start_time": "2021-08-23T08:05:55.273Z"
   },
   {
    "duration": 719,
    "start_time": "2021-08-23T08:07:27.499Z"
   },
   {
    "duration": 38,
    "start_time": "2021-08-23T08:07:32.346Z"
   },
   {
    "duration": 279,
    "start_time": "2021-08-23T08:07:34.508Z"
   },
   {
    "duration": 63,
    "start_time": "2021-08-23T08:07:41.716Z"
   },
   {
    "duration": 10,
    "start_time": "2021-08-23T08:07:45.106Z"
   },
   {
    "duration": 100,
    "start_time": "2021-08-23T08:07:49.006Z"
   },
   {
    "duration": 52,
    "start_time": "2021-08-23T08:07:51.525Z"
   },
   {
    "duration": 24,
    "start_time": "2021-08-23T08:07:54.961Z"
   },
   {
    "duration": 1120,
    "start_time": "2021-08-23T08:07:58.366Z"
   },
   {
    "duration": 911,
    "start_time": "2021-08-23T08:08:05.727Z"
   },
   {
    "duration": 137,
    "start_time": "2021-08-23T08:08:09.776Z"
   },
   {
    "duration": 1322,
    "start_time": "2021-08-23T08:10:13.915Z"
   },
   {
    "duration": 980,
    "start_time": "2021-08-23T08:10:15.239Z"
   },
   {
    "duration": 102,
    "start_time": "2021-08-23T08:10:16.222Z"
   },
   {
    "duration": 17,
    "start_time": "2021-08-23T08:10:16.327Z"
   },
   {
    "duration": 41,
    "start_time": "2021-08-23T08:10:16.346Z"
   },
   {
    "duration": 55,
    "start_time": "2021-08-23T08:10:16.389Z"
   },
   {
    "duration": 111,
    "start_time": "2021-08-23T08:10:16.446Z"
   },
   {
    "duration": 22,
    "start_time": "2021-08-23T08:10:16.562Z"
   },
   {
    "duration": 70,
    "start_time": "2021-08-23T08:10:16.588Z"
   },
   {
    "duration": 15,
    "start_time": "2021-08-23T08:10:16.661Z"
   },
   {
    "duration": 1955,
    "start_time": "2021-08-23T08:10:16.684Z"
   },
   {
    "duration": 15,
    "start_time": "2021-08-23T08:10:18.642Z"
   },
   {
    "duration": 526,
    "start_time": "2021-08-23T08:10:18.659Z"
   },
   {
    "duration": 415,
    "start_time": "2021-08-23T08:10:19.187Z"
   },
   {
    "duration": 4932,
    "start_time": "2021-08-23T08:10:19.604Z"
   },
   {
    "duration": 359,
    "start_time": "2021-08-23T08:10:24.540Z"
   },
   {
    "duration": 14,
    "start_time": "2021-08-23T08:10:24.902Z"
   },
   {
    "duration": 214,
    "start_time": "2021-08-23T08:10:24.919Z"
   },
   {
    "duration": 6,
    "start_time": "2021-08-23T08:10:25.135Z"
   },
   {
    "duration": 1001,
    "start_time": "2021-08-23T08:10:25.143Z"
   },
   {
    "duration": 92,
    "start_time": "2021-08-23T08:10:26.147Z"
   },
   {
    "duration": 6,
    "start_time": "2021-08-23T08:10:26.241Z"
   },
   {
    "duration": 37,
    "start_time": "2021-08-23T08:10:26.251Z"
   },
   {
    "duration": 663,
    "start_time": "2021-08-23T08:10:26.291Z"
   },
   {
    "duration": 46,
    "start_time": "2021-08-23T08:10:26.956Z"
   },
   {
    "duration": 305,
    "start_time": "2021-08-23T08:10:27.004Z"
   },
   {
    "duration": 85,
    "start_time": "2021-08-23T08:10:27.312Z"
   },
   {
    "duration": 10,
    "start_time": "2021-08-23T08:10:27.400Z"
   },
   {
    "duration": 132,
    "start_time": "2021-08-23T08:10:27.413Z"
   },
   {
    "duration": 75,
    "start_time": "2021-08-23T08:10:27.548Z"
   },
   {
    "duration": 27,
    "start_time": "2021-08-23T08:10:27.626Z"
   },
   {
    "duration": 1184,
    "start_time": "2021-08-23T08:10:27.655Z"
   },
   {
    "duration": 987,
    "start_time": "2021-08-23T08:10:28.841Z"
   },
   {
    "duration": 153,
    "start_time": "2021-08-23T08:10:29.831Z"
   },
   {
    "duration": 572,
    "start_time": "2021-08-23T08:17:47.335Z"
   },
   {
    "duration": 1353,
    "start_time": "2021-08-23T08:17:55.862Z"
   },
   {
    "duration": 998,
    "start_time": "2021-08-23T08:17:57.217Z"
   },
   {
    "duration": 100,
    "start_time": "2021-08-23T08:17:58.218Z"
   },
   {
    "duration": 16,
    "start_time": "2021-08-23T08:17:58.321Z"
   },
   {
    "duration": 44,
    "start_time": "2021-08-23T08:17:58.340Z"
   },
   {
    "duration": 55,
    "start_time": "2021-08-23T08:17:58.387Z"
   },
   {
    "duration": 115,
    "start_time": "2021-08-23T08:17:58.444Z"
   },
   {
    "duration": 22,
    "start_time": "2021-08-23T08:17:58.563Z"
   },
   {
    "duration": 57,
    "start_time": "2021-08-23T08:17:58.588Z"
   },
   {
    "duration": 15,
    "start_time": "2021-08-23T08:17:58.647Z"
   },
   {
    "duration": 1947,
    "start_time": "2021-08-23T08:17:58.664Z"
   },
   {
    "duration": 13,
    "start_time": "2021-08-23T08:18:00.614Z"
   },
   {
    "duration": 520,
    "start_time": "2021-08-23T08:18:00.630Z"
   },
   {
    "duration": 410,
    "start_time": "2021-08-23T08:18:01.152Z"
   },
   {
    "duration": 4132,
    "start_time": "2021-08-23T08:18:01.564Z"
   },
   {
    "duration": 396,
    "start_time": "2021-08-23T08:18:05.698Z"
   },
   {
    "duration": 15,
    "start_time": "2021-08-23T08:18:06.096Z"
   },
   {
    "duration": 92,
    "start_time": "2021-08-23T08:18:06.113Z"
   },
   {
    "duration": -88,
    "start_time": "2021-08-23T08:18:06.296Z"
   },
   {
    "duration": -106,
    "start_time": "2021-08-23T08:18:06.315Z"
   },
   {
    "duration": -123,
    "start_time": "2021-08-23T08:18:06.334Z"
   },
   {
    "duration": -137,
    "start_time": "2021-08-23T08:18:06.349Z"
   },
   {
    "duration": -156,
    "start_time": "2021-08-23T08:18:06.369Z"
   },
   {
    "duration": -171,
    "start_time": "2021-08-23T08:18:06.386Z"
   },
   {
    "duration": -200,
    "start_time": "2021-08-23T08:18:06.416Z"
   },
   {
    "duration": -211,
    "start_time": "2021-08-23T08:18:06.428Z"
   },
   {
    "duration": -222,
    "start_time": "2021-08-23T08:18:06.441Z"
   },
   {
    "duration": -230,
    "start_time": "2021-08-23T08:18:06.450Z"
   },
   {
    "duration": -241,
    "start_time": "2021-08-23T08:18:06.462Z"
   },
   {
    "duration": -254,
    "start_time": "2021-08-23T08:18:06.477Z"
   },
   {
    "duration": -267,
    "start_time": "2021-08-23T08:18:06.492Z"
   },
   {
    "duration": -274,
    "start_time": "2021-08-23T08:18:06.500Z"
   },
   {
    "duration": -288,
    "start_time": "2021-08-23T08:18:06.516Z"
   },
   {
    "duration": -301,
    "start_time": "2021-08-23T08:18:06.531Z"
   },
   {
    "duration": -313,
    "start_time": "2021-08-23T08:18:06.544Z"
   },
   {
    "duration": 1592,
    "start_time": "2021-08-23T08:18:37.445Z"
   },
   {
    "duration": 1026,
    "start_time": "2021-08-23T08:18:39.040Z"
   },
   {
    "duration": 100,
    "start_time": "2021-08-23T08:18:40.082Z"
   },
   {
    "duration": 18,
    "start_time": "2021-08-23T08:18:40.185Z"
   },
   {
    "duration": 26,
    "start_time": "2021-08-23T08:18:40.206Z"
   },
   {
    "duration": 94,
    "start_time": "2021-08-23T08:18:40.235Z"
   },
   {
    "duration": 109,
    "start_time": "2021-08-23T08:18:40.331Z"
   },
   {
    "duration": 9,
    "start_time": "2021-08-23T08:18:40.445Z"
   },
   {
    "duration": 83,
    "start_time": "2021-08-23T08:18:40.457Z"
   },
   {
    "duration": 15,
    "start_time": "2021-08-23T08:18:40.543Z"
   },
   {
    "duration": 2126,
    "start_time": "2021-08-23T08:18:40.561Z"
   },
   {
    "duration": 32,
    "start_time": "2021-08-23T08:18:42.690Z"
   },
   {
    "duration": 574,
    "start_time": "2021-08-23T08:18:42.724Z"
   },
   {
    "duration": 550,
    "start_time": "2021-08-23T08:18:43.301Z"
   },
   {
    "duration": 4434,
    "start_time": "2021-08-23T08:18:43.853Z"
   },
   {
    "duration": 373,
    "start_time": "2021-08-23T08:18:48.289Z"
   },
   {
    "duration": 221,
    "start_time": "2021-08-23T08:18:48.664Z"
   },
   {
    "duration": 6,
    "start_time": "2021-08-23T08:18:48.888Z"
   },
   {
    "duration": 939,
    "start_time": "2021-08-23T08:18:48.896Z"
   },
   {
    "duration": 87,
    "start_time": "2021-08-23T08:18:49.837Z"
   },
   {
    "duration": 6,
    "start_time": "2021-08-23T08:18:49.926Z"
   },
   {
    "duration": 21,
    "start_time": "2021-08-23T08:18:49.935Z"
   },
   {
    "duration": 675,
    "start_time": "2021-08-23T08:18:49.981Z"
   },
   {
    "duration": 44,
    "start_time": "2021-08-23T08:18:50.659Z"
   },
   {
    "duration": 288,
    "start_time": "2021-08-23T08:18:50.705Z"
   },
   {
    "duration": 64,
    "start_time": "2021-08-23T08:18:50.995Z"
   },
   {
    "duration": 28,
    "start_time": "2021-08-23T08:18:51.061Z"
   },
   {
    "duration": 111,
    "start_time": "2021-08-23T08:18:51.091Z"
   },
   {
    "duration": 53,
    "start_time": "2021-08-23T08:18:51.204Z"
   },
   {
    "duration": 44,
    "start_time": "2021-08-23T08:18:51.259Z"
   },
   {
    "duration": 1219,
    "start_time": "2021-08-23T08:18:51.306Z"
   },
   {
    "duration": 1012,
    "start_time": "2021-08-23T08:18:52.528Z"
   },
   {
    "duration": 149,
    "start_time": "2021-08-23T08:18:53.543Z"
   },
   {
    "duration": 82,
    "start_time": "2021-08-23T08:25:47.329Z"
   },
   {
    "duration": 1502,
    "start_time": "2021-08-23T08:26:06.469Z"
   },
   {
    "duration": 983,
    "start_time": "2021-08-23T08:26:07.973Z"
   },
   {
    "duration": 93,
    "start_time": "2021-08-23T08:26:08.959Z"
   },
   {
    "duration": 32,
    "start_time": "2021-08-23T08:26:09.055Z"
   },
   {
    "duration": 25,
    "start_time": "2021-08-23T08:26:09.089Z"
   },
   {
    "duration": 74,
    "start_time": "2021-08-23T08:26:09.116Z"
   },
   {
    "duration": 107,
    "start_time": "2021-08-23T08:26:09.193Z"
   },
   {
    "duration": 10,
    "start_time": "2021-08-23T08:26:09.303Z"
   },
   {
    "duration": 56,
    "start_time": "2021-08-23T08:26:09.316Z"
   },
   {
    "duration": 15,
    "start_time": "2021-08-23T08:26:09.383Z"
   },
   {
    "duration": 1970,
    "start_time": "2021-08-23T08:26:09.401Z"
   },
   {
    "duration": 15,
    "start_time": "2021-08-23T08:26:11.373Z"
   },
   {
    "duration": 535,
    "start_time": "2021-08-23T08:26:11.391Z"
   },
   {
    "duration": 432,
    "start_time": "2021-08-23T08:26:11.929Z"
   },
   {
    "duration": 4498,
    "start_time": "2021-08-23T08:26:12.363Z"
   },
   {
    "duration": 377,
    "start_time": "2021-08-23T08:26:16.863Z"
   },
   {
    "duration": 200,
    "start_time": "2021-08-23T08:26:17.242Z"
   },
   {
    "duration": 7,
    "start_time": "2021-08-23T08:26:17.445Z"
   },
   {
    "duration": 924,
    "start_time": "2021-08-23T08:26:17.454Z"
   },
   {
    "duration": 81,
    "start_time": "2021-08-23T08:26:18.381Z"
   },
   {
    "duration": 23,
    "start_time": "2021-08-23T08:26:18.465Z"
   },
   {
    "duration": 19,
    "start_time": "2021-08-23T08:26:18.491Z"
   },
   {
    "duration": 678,
    "start_time": "2021-08-23T08:26:18.516Z"
   },
   {
    "duration": 36,
    "start_time": "2021-08-23T08:26:19.197Z"
   },
   {
    "duration": 293,
    "start_time": "2021-08-23T08:26:19.236Z"
   },
   {
    "duration": 77,
    "start_time": "2021-08-23T08:26:19.532Z"
   },
   {
    "duration": 7,
    "start_time": "2021-08-23T08:26:19.611Z"
   },
   {
    "duration": 113,
    "start_time": "2021-08-23T08:26:19.620Z"
   },
   {
    "duration": 65,
    "start_time": "2021-08-23T08:26:19.735Z"
   },
   {
    "duration": 23,
    "start_time": "2021-08-23T08:26:19.802Z"
   },
   {
    "duration": 1142,
    "start_time": "2021-08-23T08:26:19.828Z"
   },
   {
    "duration": 1050,
    "start_time": "2021-08-23T08:26:20.973Z"
   },
   {
    "duration": 145,
    "start_time": "2021-08-23T08:26:22.026Z"
   }
  ],
  "kernelspec": {
   "display_name": "Python 3",
   "language": "python",
   "name": "python3"
  },
  "language_info": {
   "codemirror_mode": {
    "name": "ipython",
    "version": 3
   },
   "file_extension": ".py",
   "mimetype": "text/x-python",
   "name": "python",
   "nbconvert_exporter": "python",
   "pygments_lexer": "ipython3",
   "version": "3.7.8"
  },
  "toc": {
   "base_numbering": 1,
   "nav_menu": {},
   "number_sections": true,
   "sideBar": true,
   "skip_h1_title": false,
   "title_cell": "Table of Contents",
   "title_sidebar": "Contents",
   "toc_cell": false,
   "toc_position": {},
   "toc_section_display": true,
   "toc_window_display": false
  }
 },
 "nbformat": 4,
 "nbformat_minor": 2
}
